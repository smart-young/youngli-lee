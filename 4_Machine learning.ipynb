{
 "cells": [
  {
   "cell_type": "markdown",
   "metadata": {},
   "source": [
    "# Classification"
   ]
  },
  {
   "cell_type": "markdown",
   "metadata": {},
   "source": [
    "---"
   ]
  },
  {
   "cell_type": "code",
   "execution_count": 2,
   "metadata": {},
   "outputs": [],
   "source": [
    "import numpy as np\n",
    "import pandas as pd"
   ]
  },
  {
   "cell_type": "markdown",
   "metadata": {},
   "source": [
    "#### 데이터 로드"
   ]
  },
  {
   "cell_type": "code",
   "execution_count": 2,
   "metadata": {
    "scrolled": true
   },
   "outputs": [
    {
     "data": {
      "text/html": [
       "<div>\n",
       "<style scoped>\n",
       "    .dataframe tbody tr th:only-of-type {\n",
       "        vertical-align: middle;\n",
       "    }\n",
       "\n",
       "    .dataframe tbody tr th {\n",
       "        vertical-align: top;\n",
       "    }\n",
       "\n",
       "    .dataframe thead th {\n",
       "        text-align: right;\n",
       "    }\n",
       "</style>\n",
       "<table border=\"1\" class=\"dataframe\">\n",
       "  <thead>\n",
       "    <tr style=\"text-align: right;\">\n",
       "      <th></th>\n",
       "      <th>Type</th>\n",
       "      <th>Length</th>\n",
       "      <th>Depth</th>\n",
       "      <th>Kg</th>\n",
       "    </tr>\n",
       "  </thead>\n",
       "  <tbody>\n",
       "    <tr>\n",
       "      <th>0</th>\n",
       "      <td>tuna</td>\n",
       "      <td>55.46</td>\n",
       "      <td>13.240930</td>\n",
       "      <td>8.631268</td>\n",
       "    </tr>\n",
       "    <tr>\n",
       "      <th>1</th>\n",
       "      <td>tuna</td>\n",
       "      <td>72.07</td>\n",
       "      <td>17.671346</td>\n",
       "      <td>19.288996</td>\n",
       "    </tr>\n",
       "    <tr>\n",
       "      <th>2</th>\n",
       "      <td>tuna</td>\n",
       "      <td>62.84</td>\n",
       "      <td>15.635367</td>\n",
       "      <td>13.140561</td>\n",
       "    </tr>\n",
       "    <tr>\n",
       "      <th>3</th>\n",
       "      <td>tuna</td>\n",
       "      <td>72.79</td>\n",
       "      <td>18.440841</td>\n",
       "      <td>19.669098</td>\n",
       "    </tr>\n",
       "    <tr>\n",
       "      <th>4</th>\n",
       "      <td>tuna</td>\n",
       "      <td>76.63</td>\n",
       "      <td>19.137488</td>\n",
       "      <td>23.021797</td>\n",
       "    </tr>\n",
       "  </tbody>\n",
       "</table>\n",
       "</div>"
      ],
      "text/plain": [
       "   Type  Length      Depth         Kg\n",
       "0  tuna   55.46  13.240930   8.631268\n",
       "1  tuna   72.07  17.671346  19.288996\n",
       "2  tuna   62.84  15.635367  13.140561\n",
       "3  tuna   72.79  18.440841  19.669098\n",
       "4  tuna   76.63  19.137488  23.021797"
      ]
     },
     "execution_count": 2,
     "metadata": {},
     "output_type": "execute_result"
    }
   ],
   "source": [
    "df = pd.read_csv('data/fish.csv')\n",
    "df.head()"
   ]
  },
  {
   "cell_type": "markdown",
   "metadata": {},
   "source": [
    "#### 길이의 제곱 컬럼 생성"
   ]
  },
  {
   "cell_type": "code",
   "execution_count": 3,
   "metadata": {
    "scrolled": true
   },
   "outputs": [
    {
     "data": {
      "text/html": [
       "<div>\n",
       "<style scoped>\n",
       "    .dataframe tbody tr th:only-of-type {\n",
       "        vertical-align: middle;\n",
       "    }\n",
       "\n",
       "    .dataframe tbody tr th {\n",
       "        vertical-align: top;\n",
       "    }\n",
       "\n",
       "    .dataframe thead th {\n",
       "        text-align: right;\n",
       "    }\n",
       "</style>\n",
       "<table border=\"1\" class=\"dataframe\">\n",
       "  <thead>\n",
       "    <tr style=\"text-align: right;\">\n",
       "      <th></th>\n",
       "      <th>Type</th>\n",
       "      <th>Length</th>\n",
       "      <th>Depth</th>\n",
       "      <th>Kg</th>\n",
       "      <th>L2</th>\n",
       "    </tr>\n",
       "  </thead>\n",
       "  <tbody>\n",
       "    <tr>\n",
       "      <th>0</th>\n",
       "      <td>tuna</td>\n",
       "      <td>55.46</td>\n",
       "      <td>13.240930</td>\n",
       "      <td>8.631268</td>\n",
       "      <td>3075.8116</td>\n",
       "    </tr>\n",
       "    <tr>\n",
       "      <th>1</th>\n",
       "      <td>tuna</td>\n",
       "      <td>72.07</td>\n",
       "      <td>17.671346</td>\n",
       "      <td>19.288996</td>\n",
       "      <td>5194.0849</td>\n",
       "    </tr>\n",
       "    <tr>\n",
       "      <th>2</th>\n",
       "      <td>tuna</td>\n",
       "      <td>62.84</td>\n",
       "      <td>15.635367</td>\n",
       "      <td>13.140561</td>\n",
       "      <td>3948.8656</td>\n",
       "    </tr>\n",
       "    <tr>\n",
       "      <th>3</th>\n",
       "      <td>tuna</td>\n",
       "      <td>72.79</td>\n",
       "      <td>18.440841</td>\n",
       "      <td>19.669098</td>\n",
       "      <td>5298.3841</td>\n",
       "    </tr>\n",
       "    <tr>\n",
       "      <th>4</th>\n",
       "      <td>tuna</td>\n",
       "      <td>76.63</td>\n",
       "      <td>19.137488</td>\n",
       "      <td>23.021797</td>\n",
       "      <td>5872.1569</td>\n",
       "    </tr>\n",
       "  </tbody>\n",
       "</table>\n",
       "</div>"
      ],
      "text/plain": [
       "   Type  Length      Depth         Kg         L2\n",
       "0  tuna   55.46  13.240930   8.631268  3075.8116\n",
       "1  tuna   72.07  17.671346  19.288996  5194.0849\n",
       "2  tuna   62.84  15.635367  13.140561  3948.8656\n",
       "3  tuna   72.79  18.440841  19.669098  5298.3841\n",
       "4  tuna   76.63  19.137488  23.021797  5872.1569"
      ]
     },
     "execution_count": 3,
     "metadata": {},
     "output_type": "execute_result"
    }
   ],
   "source": [
    "df['L2'] = df['Length'] * df['Length']\n",
    "df.head()"
   ]
  },
  {
   "cell_type": "markdown",
   "metadata": {},
   "source": [
    "#### 길이와 무게 비율 컬럼 생성"
   ]
  },
  {
   "cell_type": "code",
   "execution_count": 4,
   "metadata": {
    "scrolled": true
   },
   "outputs": [
    {
     "data": {
      "text/html": [
       "<div>\n",
       "<style scoped>\n",
       "    .dataframe tbody tr th:only-of-type {\n",
       "        vertical-align: middle;\n",
       "    }\n",
       "\n",
       "    .dataframe tbody tr th {\n",
       "        vertical-align: top;\n",
       "    }\n",
       "\n",
       "    .dataframe thead th {\n",
       "        text-align: right;\n",
       "    }\n",
       "</style>\n",
       "<table border=\"1\" class=\"dataframe\">\n",
       "  <thead>\n",
       "    <tr style=\"text-align: right;\">\n",
       "      <th></th>\n",
       "      <th>Type</th>\n",
       "      <th>Length</th>\n",
       "      <th>Depth</th>\n",
       "      <th>Kg</th>\n",
       "      <th>L2</th>\n",
       "      <th>LKgRatio</th>\n",
       "    </tr>\n",
       "  </thead>\n",
       "  <tbody>\n",
       "    <tr>\n",
       "      <th>0</th>\n",
       "      <td>tuna</td>\n",
       "      <td>55.46</td>\n",
       "      <td>13.240930</td>\n",
       "      <td>8.631268</td>\n",
       "      <td>3075.8116</td>\n",
       "      <td>0.155631</td>\n",
       "    </tr>\n",
       "    <tr>\n",
       "      <th>1</th>\n",
       "      <td>tuna</td>\n",
       "      <td>72.07</td>\n",
       "      <td>17.671346</td>\n",
       "      <td>19.288996</td>\n",
       "      <td>5194.0849</td>\n",
       "      <td>0.267643</td>\n",
       "    </tr>\n",
       "    <tr>\n",
       "      <th>2</th>\n",
       "      <td>tuna</td>\n",
       "      <td>62.84</td>\n",
       "      <td>15.635367</td>\n",
       "      <td>13.140561</td>\n",
       "      <td>3948.8656</td>\n",
       "      <td>0.209111</td>\n",
       "    </tr>\n",
       "    <tr>\n",
       "      <th>3</th>\n",
       "      <td>tuna</td>\n",
       "      <td>72.79</td>\n",
       "      <td>18.440841</td>\n",
       "      <td>19.669098</td>\n",
       "      <td>5298.3841</td>\n",
       "      <td>0.270217</td>\n",
       "    </tr>\n",
       "    <tr>\n",
       "      <th>4</th>\n",
       "      <td>tuna</td>\n",
       "      <td>76.63</td>\n",
       "      <td>19.137488</td>\n",
       "      <td>23.021797</td>\n",
       "      <td>5872.1569</td>\n",
       "      <td>0.300428</td>\n",
       "    </tr>\n",
       "  </tbody>\n",
       "</table>\n",
       "</div>"
      ],
      "text/plain": [
       "   Type  Length      Depth         Kg         L2  LKgRatio\n",
       "0  tuna   55.46  13.240930   8.631268  3075.8116  0.155631\n",
       "1  tuna   72.07  17.671346  19.288996  5194.0849  0.267643\n",
       "2  tuna   62.84  15.635367  13.140561  3948.8656  0.209111\n",
       "3  tuna   72.79  18.440841  19.669098  5298.3841  0.270217\n",
       "4  tuna   76.63  19.137488  23.021797  5872.1569  0.300428"
      ]
     },
     "execution_count": 4,
     "metadata": {},
     "output_type": "execute_result"
    }
   ],
   "source": [
    "df['LKgRatio'] = df['Kg'] / df['Length']\n",
    "df.head()"
   ]
  },
  {
   "cell_type": "markdown",
   "metadata": {},
   "source": [
    "#### 컬럼 추가(isTuna) - 참치: 1, 나머지: 0"
   ]
  },
  {
   "cell_type": "code",
   "execution_count": 5,
   "metadata": {},
   "outputs": [],
   "source": [
    "df['isTuna'] = df['Type'].apply(lambda x: 1 if x == 'tuna' else 0)"
   ]
  },
  {
   "cell_type": "markdown",
   "metadata": {},
   "source": [
    "#### 컬럼 추가( TypeNum) - 참치: 0, 연어: 1, 고등어:2"
   ]
  },
  {
   "cell_type": "code",
   "execution_count": 6,
   "metadata": {
    "scrolled": true
   },
   "outputs": [
    {
     "data": {
      "text/html": [
       "<div>\n",
       "<style scoped>\n",
       "    .dataframe tbody tr th:only-of-type {\n",
       "        vertical-align: middle;\n",
       "    }\n",
       "\n",
       "    .dataframe tbody tr th {\n",
       "        vertical-align: top;\n",
       "    }\n",
       "\n",
       "    .dataframe thead th {\n",
       "        text-align: right;\n",
       "    }\n",
       "</style>\n",
       "<table border=\"1\" class=\"dataframe\">\n",
       "  <thead>\n",
       "    <tr style=\"text-align: right;\">\n",
       "      <th></th>\n",
       "      <th>Type</th>\n",
       "      <th>Length</th>\n",
       "      <th>Depth</th>\n",
       "      <th>Kg</th>\n",
       "      <th>L2</th>\n",
       "      <th>LKgRatio</th>\n",
       "      <th>isTuna</th>\n",
       "      <th>TypeNum</th>\n",
       "    </tr>\n",
       "  </thead>\n",
       "  <tbody>\n",
       "    <tr>\n",
       "      <th>0</th>\n",
       "      <td>tuna</td>\n",
       "      <td>55.46</td>\n",
       "      <td>13.240930</td>\n",
       "      <td>8.631268</td>\n",
       "      <td>3075.8116</td>\n",
       "      <td>0.155631</td>\n",
       "      <td>1</td>\n",
       "      <td>0</td>\n",
       "    </tr>\n",
       "    <tr>\n",
       "      <th>1</th>\n",
       "      <td>tuna</td>\n",
       "      <td>72.07</td>\n",
       "      <td>17.671346</td>\n",
       "      <td>19.288996</td>\n",
       "      <td>5194.0849</td>\n",
       "      <td>0.267643</td>\n",
       "      <td>1</td>\n",
       "      <td>0</td>\n",
       "    </tr>\n",
       "    <tr>\n",
       "      <th>2</th>\n",
       "      <td>tuna</td>\n",
       "      <td>62.84</td>\n",
       "      <td>15.635367</td>\n",
       "      <td>13.140561</td>\n",
       "      <td>3948.8656</td>\n",
       "      <td>0.209111</td>\n",
       "      <td>1</td>\n",
       "      <td>0</td>\n",
       "    </tr>\n",
       "    <tr>\n",
       "      <th>3</th>\n",
       "      <td>tuna</td>\n",
       "      <td>72.79</td>\n",
       "      <td>18.440841</td>\n",
       "      <td>19.669098</td>\n",
       "      <td>5298.3841</td>\n",
       "      <td>0.270217</td>\n",
       "      <td>1</td>\n",
       "      <td>0</td>\n",
       "    </tr>\n",
       "    <tr>\n",
       "      <th>4</th>\n",
       "      <td>tuna</td>\n",
       "      <td>76.63</td>\n",
       "      <td>19.137488</td>\n",
       "      <td>23.021797</td>\n",
       "      <td>5872.1569</td>\n",
       "      <td>0.300428</td>\n",
       "      <td>1</td>\n",
       "      <td>0</td>\n",
       "    </tr>\n",
       "    <tr>\n",
       "      <th>5</th>\n",
       "      <td>tuna</td>\n",
       "      <td>61.31</td>\n",
       "      <td>14.870117</td>\n",
       "      <td>12.012898</td>\n",
       "      <td>3758.9161</td>\n",
       "      <td>0.195937</td>\n",
       "      <td>1</td>\n",
       "      <td>0</td>\n",
       "    </tr>\n",
       "    <tr>\n",
       "      <th>6</th>\n",
       "      <td>tuna</td>\n",
       "      <td>73.56</td>\n",
       "      <td>18.334414</td>\n",
       "      <td>21.763799</td>\n",
       "      <td>5411.0736</td>\n",
       "      <td>0.295865</td>\n",
       "      <td>1</td>\n",
       "      <td>0</td>\n",
       "    </tr>\n",
       "    <tr>\n",
       "      <th>7</th>\n",
       "      <td>tuna</td>\n",
       "      <td>65.88</td>\n",
       "      <td>16.436831</td>\n",
       "      <td>14.398289</td>\n",
       "      <td>4340.1744</td>\n",
       "      <td>0.218553</td>\n",
       "      <td>1</td>\n",
       "      <td>0</td>\n",
       "    </tr>\n",
       "    <tr>\n",
       "      <th>8</th>\n",
       "      <td>tuna</td>\n",
       "      <td>63.03</td>\n",
       "      <td>15.390727</td>\n",
       "      <td>13.246244</td>\n",
       "      <td>3972.7809</td>\n",
       "      <td>0.210158</td>\n",
       "      <td>1</td>\n",
       "      <td>0</td>\n",
       "    </tr>\n",
       "    <tr>\n",
       "      <th>9</th>\n",
       "      <td>tuna</td>\n",
       "      <td>71.92</td>\n",
       "      <td>17.844251</td>\n",
       "      <td>19.424579</td>\n",
       "      <td>5172.4864</td>\n",
       "      <td>0.270086</td>\n",
       "      <td>1</td>\n",
       "      <td>0</td>\n",
       "    </tr>\n",
       "    <tr>\n",
       "      <th>10</th>\n",
       "      <td>tuna</td>\n",
       "      <td>75.72</td>\n",
       "      <td>18.561395</td>\n",
       "      <td>21.317571</td>\n",
       "      <td>5733.5184</td>\n",
       "      <td>0.281532</td>\n",
       "      <td>1</td>\n",
       "      <td>0</td>\n",
       "    </tr>\n",
       "    <tr>\n",
       "      <th>11</th>\n",
       "      <td>tuna</td>\n",
       "      <td>64.79</td>\n",
       "      <td>15.580317</td>\n",
       "      <td>14.007343</td>\n",
       "      <td>4197.7441</td>\n",
       "      <td>0.216196</td>\n",
       "      <td>1</td>\n",
       "      <td>0</td>\n",
       "    </tr>\n",
       "    <tr>\n",
       "      <th>12</th>\n",
       "      <td>tuna</td>\n",
       "      <td>51.63</td>\n",
       "      <td>12.503213</td>\n",
       "      <td>6.989896</td>\n",
       "      <td>2665.6569</td>\n",
       "      <td>0.135384</td>\n",
       "      <td>1</td>\n",
       "      <td>0</td>\n",
       "    </tr>\n",
       "    <tr>\n",
       "      <th>13</th>\n",
       "      <td>tuna</td>\n",
       "      <td>56.79</td>\n",
       "      <td>14.217174</td>\n",
       "      <td>9.761098</td>\n",
       "      <td>3225.1041</td>\n",
       "      <td>0.171881</td>\n",
       "      <td>1</td>\n",
       "      <td>0</td>\n",
       "    </tr>\n",
       "    <tr>\n",
       "      <th>14</th>\n",
       "      <td>tuna</td>\n",
       "      <td>74.04</td>\n",
       "      <td>18.108083</td>\n",
       "      <td>21.722563</td>\n",
       "      <td>5481.9216</td>\n",
       "      <td>0.293390</td>\n",
       "      <td>1</td>\n",
       "      <td>0</td>\n",
       "    </tr>\n",
       "    <tr>\n",
       "      <th>15</th>\n",
       "      <td>tuna</td>\n",
       "      <td>73.39</td>\n",
       "      <td>17.618273</td>\n",
       "      <td>20.692866</td>\n",
       "      <td>5386.0921</td>\n",
       "      <td>0.281958</td>\n",
       "      <td>1</td>\n",
       "      <td>0</td>\n",
       "    </tr>\n",
       "    <tr>\n",
       "      <th>16</th>\n",
       "      <td>tuna</td>\n",
       "      <td>80.67</td>\n",
       "      <td>19.611210</td>\n",
       "      <td>27.061532</td>\n",
       "      <td>6507.6489</td>\n",
       "      <td>0.335460</td>\n",
       "      <td>1</td>\n",
       "      <td>0</td>\n",
       "    </tr>\n",
       "    <tr>\n",
       "      <th>17</th>\n",
       "      <td>tuna</td>\n",
       "      <td>79.09</td>\n",
       "      <td>18.974578</td>\n",
       "      <td>25.161760</td>\n",
       "      <td>6255.2281</td>\n",
       "      <td>0.318141</td>\n",
       "      <td>1</td>\n",
       "      <td>0</td>\n",
       "    </tr>\n",
       "    <tr>\n",
       "      <th>18</th>\n",
       "      <td>tuna</td>\n",
       "      <td>75.66</td>\n",
       "      <td>19.046334</td>\n",
       "      <td>23.345379</td>\n",
       "      <td>5724.4356</td>\n",
       "      <td>0.308556</td>\n",
       "      <td>1</td>\n",
       "      <td>0</td>\n",
       "    </tr>\n",
       "    <tr>\n",
       "      <th>19</th>\n",
       "      <td>tuna</td>\n",
       "      <td>63.30</td>\n",
       "      <td>15.077333</td>\n",
       "      <td>12.360468</td>\n",
       "      <td>4006.8900</td>\n",
       "      <td>0.195268</td>\n",
       "      <td>1</td>\n",
       "      <td>0</td>\n",
       "    </tr>\n",
       "    <tr>\n",
       "      <th>20</th>\n",
       "      <td>tuna</td>\n",
       "      <td>63.73</td>\n",
       "      <td>15.647493</td>\n",
       "      <td>12.935732</td>\n",
       "      <td>4061.5129</td>\n",
       "      <td>0.202977</td>\n",
       "      <td>1</td>\n",
       "      <td>0</td>\n",
       "    </tr>\n",
       "    <tr>\n",
       "      <th>21</th>\n",
       "      <td>tuna</td>\n",
       "      <td>59.77</td>\n",
       "      <td>14.559803</td>\n",
       "      <td>11.141099</td>\n",
       "      <td>3572.4529</td>\n",
       "      <td>0.186400</td>\n",
       "      <td>1</td>\n",
       "      <td>0</td>\n",
       "    </tr>\n",
       "    <tr>\n",
       "      <th>22</th>\n",
       "      <td>tuna</td>\n",
       "      <td>65.43</td>\n",
       "      <td>15.989722</td>\n",
       "      <td>14.995949</td>\n",
       "      <td>4281.0849</td>\n",
       "      <td>0.229191</td>\n",
       "      <td>1</td>\n",
       "      <td>0</td>\n",
       "    </tr>\n",
       "    <tr>\n",
       "      <th>23</th>\n",
       "      <td>tuna</td>\n",
       "      <td>69.50</td>\n",
       "      <td>16.987016</td>\n",
       "      <td>17.179702</td>\n",
       "      <td>4830.2500</td>\n",
       "      <td>0.247190</td>\n",
       "      <td>1</td>\n",
       "      <td>0</td>\n",
       "    </tr>\n",
       "    <tr>\n",
       "      <th>24</th>\n",
       "      <td>tuna</td>\n",
       "      <td>62.42</td>\n",
       "      <td>15.297564</td>\n",
       "      <td>12.538067</td>\n",
       "      <td>3896.2564</td>\n",
       "      <td>0.200866</td>\n",
       "      <td>1</td>\n",
       "      <td>0</td>\n",
       "    </tr>\n",
       "    <tr>\n",
       "      <th>25</th>\n",
       "      <td>tuna</td>\n",
       "      <td>70.17</td>\n",
       "      <td>16.682835</td>\n",
       "      <td>17.409154</td>\n",
       "      <td>4923.8289</td>\n",
       "      <td>0.248100</td>\n",
       "      <td>1</td>\n",
       "      <td>0</td>\n",
       "    </tr>\n",
       "    <tr>\n",
       "      <th>26</th>\n",
       "      <td>tuna</td>\n",
       "      <td>72.14</td>\n",
       "      <td>17.659036</td>\n",
       "      <td>18.949713</td>\n",
       "      <td>5204.1796</td>\n",
       "      <td>0.262680</td>\n",
       "      <td>1</td>\n",
       "      <td>0</td>\n",
       "    </tr>\n",
       "    <tr>\n",
       "      <th>27</th>\n",
       "      <td>tuna</td>\n",
       "      <td>64.57</td>\n",
       "      <td>15.816363</td>\n",
       "      <td>14.285938</td>\n",
       "      <td>4169.2849</td>\n",
       "      <td>0.221247</td>\n",
       "      <td>1</td>\n",
       "      <td>0</td>\n",
       "    </tr>\n",
       "    <tr>\n",
       "      <th>28</th>\n",
       "      <td>tuna</td>\n",
       "      <td>68.66</td>\n",
       "      <td>17.212031</td>\n",
       "      <td>17.095611</td>\n",
       "      <td>4714.1956</td>\n",
       "      <td>0.248989</td>\n",
       "      <td>1</td>\n",
       "      <td>0</td>\n",
       "    </tr>\n",
       "    <tr>\n",
       "      <th>29</th>\n",
       "      <td>tuna</td>\n",
       "      <td>88.94</td>\n",
       "      <td>21.783584</td>\n",
       "      <td>35.237810</td>\n",
       "      <td>7910.3236</td>\n",
       "      <td>0.396198</td>\n",
       "      <td>1</td>\n",
       "      <td>0</td>\n",
       "    </tr>\n",
       "    <tr>\n",
       "      <th>...</th>\n",
       "      <td>...</td>\n",
       "      <td>...</td>\n",
       "      <td>...</td>\n",
       "      <td>...</td>\n",
       "      <td>...</td>\n",
       "      <td>...</td>\n",
       "      <td>...</td>\n",
       "      <td>...</td>\n",
       "    </tr>\n",
       "    <tr>\n",
       "      <th>1470</th>\n",
       "      <td>mackerel</td>\n",
       "      <td>24.91</td>\n",
       "      <td>4.993302</td>\n",
       "      <td>0.302532</td>\n",
       "      <td>620.5081</td>\n",
       "      <td>0.012145</td>\n",
       "      <td>0</td>\n",
       "      <td>2</td>\n",
       "    </tr>\n",
       "    <tr>\n",
       "      <th>1471</th>\n",
       "      <td>mackerel</td>\n",
       "      <td>41.38</td>\n",
       "      <td>8.572053</td>\n",
       "      <td>1.494346</td>\n",
       "      <td>1712.3044</td>\n",
       "      <td>0.036113</td>\n",
       "      <td>0</td>\n",
       "      <td>2</td>\n",
       "    </tr>\n",
       "    <tr>\n",
       "      <th>1472</th>\n",
       "      <td>mackerel</td>\n",
       "      <td>41.37</td>\n",
       "      <td>8.311794</td>\n",
       "      <td>1.444555</td>\n",
       "      <td>1711.4769</td>\n",
       "      <td>0.034918</td>\n",
       "      <td>0</td>\n",
       "      <td>2</td>\n",
       "    </tr>\n",
       "    <tr>\n",
       "      <th>1473</th>\n",
       "      <td>mackerel</td>\n",
       "      <td>26.82</td>\n",
       "      <td>5.426485</td>\n",
       "      <td>0.436552</td>\n",
       "      <td>719.3124</td>\n",
       "      <td>0.016277</td>\n",
       "      <td>0</td>\n",
       "      <td>2</td>\n",
       "    </tr>\n",
       "    <tr>\n",
       "      <th>1474</th>\n",
       "      <td>mackerel</td>\n",
       "      <td>46.19</td>\n",
       "      <td>9.390530</td>\n",
       "      <td>2.038712</td>\n",
       "      <td>2133.5161</td>\n",
       "      <td>0.044138</td>\n",
       "      <td>0</td>\n",
       "      <td>2</td>\n",
       "    </tr>\n",
       "    <tr>\n",
       "      <th>1475</th>\n",
       "      <td>mackerel</td>\n",
       "      <td>43.66</td>\n",
       "      <td>8.800120</td>\n",
       "      <td>1.855372</td>\n",
       "      <td>1906.1956</td>\n",
       "      <td>0.042496</td>\n",
       "      <td>0</td>\n",
       "      <td>2</td>\n",
       "    </tr>\n",
       "    <tr>\n",
       "      <th>1476</th>\n",
       "      <td>mackerel</td>\n",
       "      <td>29.75</td>\n",
       "      <td>6.342290</td>\n",
       "      <td>0.639290</td>\n",
       "      <td>885.0625</td>\n",
       "      <td>0.021489</td>\n",
       "      <td>0</td>\n",
       "      <td>2</td>\n",
       "    </tr>\n",
       "    <tr>\n",
       "      <th>1477</th>\n",
       "      <td>mackerel</td>\n",
       "      <td>38.55</td>\n",
       "      <td>7.870027</td>\n",
       "      <td>1.348170</td>\n",
       "      <td>1486.1025</td>\n",
       "      <td>0.034972</td>\n",
       "      <td>0</td>\n",
       "      <td>2</td>\n",
       "    </tr>\n",
       "    <tr>\n",
       "      <th>1478</th>\n",
       "      <td>mackerel</td>\n",
       "      <td>41.92</td>\n",
       "      <td>8.450308</td>\n",
       "      <td>1.831604</td>\n",
       "      <td>1757.2864</td>\n",
       "      <td>0.043693</td>\n",
       "      <td>0</td>\n",
       "      <td>2</td>\n",
       "    </tr>\n",
       "    <tr>\n",
       "      <th>1479</th>\n",
       "      <td>mackerel</td>\n",
       "      <td>39.32</td>\n",
       "      <td>7.892523</td>\n",
       "      <td>1.322272</td>\n",
       "      <td>1546.0624</td>\n",
       "      <td>0.033628</td>\n",
       "      <td>0</td>\n",
       "      <td>2</td>\n",
       "    </tr>\n",
       "    <tr>\n",
       "      <th>1480</th>\n",
       "      <td>mackerel</td>\n",
       "      <td>34.00</td>\n",
       "      <td>6.865855</td>\n",
       "      <td>0.839511</td>\n",
       "      <td>1156.0000</td>\n",
       "      <td>0.024692</td>\n",
       "      <td>0</td>\n",
       "      <td>2</td>\n",
       "    </tr>\n",
       "    <tr>\n",
       "      <th>1481</th>\n",
       "      <td>mackerel</td>\n",
       "      <td>37.92</td>\n",
       "      <td>7.594753</td>\n",
       "      <td>1.108658</td>\n",
       "      <td>1437.9264</td>\n",
       "      <td>0.029237</td>\n",
       "      <td>0</td>\n",
       "      <td>2</td>\n",
       "    </tr>\n",
       "    <tr>\n",
       "      <th>1482</th>\n",
       "      <td>mackerel</td>\n",
       "      <td>32.43</td>\n",
       "      <td>6.487050</td>\n",
       "      <td>0.622862</td>\n",
       "      <td>1051.7049</td>\n",
       "      <td>0.019206</td>\n",
       "      <td>0</td>\n",
       "      <td>2</td>\n",
       "    </tr>\n",
       "    <tr>\n",
       "      <th>1483</th>\n",
       "      <td>mackerel</td>\n",
       "      <td>43.49</td>\n",
       "      <td>8.667636</td>\n",
       "      <td>1.307558</td>\n",
       "      <td>1891.3801</td>\n",
       "      <td>0.030066</td>\n",
       "      <td>0</td>\n",
       "      <td>2</td>\n",
       "    </tr>\n",
       "    <tr>\n",
       "      <th>1484</th>\n",
       "      <td>mackerel</td>\n",
       "      <td>52.71</td>\n",
       "      <td>10.479169</td>\n",
       "      <td>2.762553</td>\n",
       "      <td>2778.3441</td>\n",
       "      <td>0.052410</td>\n",
       "      <td>0</td>\n",
       "      <td>2</td>\n",
       "    </tr>\n",
       "    <tr>\n",
       "      <th>1485</th>\n",
       "      <td>mackerel</td>\n",
       "      <td>35.89</td>\n",
       "      <td>7.196289</td>\n",
       "      <td>0.676833</td>\n",
       "      <td>1288.0921</td>\n",
       "      <td>0.018859</td>\n",
       "      <td>0</td>\n",
       "      <td>2</td>\n",
       "    </tr>\n",
       "    <tr>\n",
       "      <th>1486</th>\n",
       "      <td>mackerel</td>\n",
       "      <td>44.28</td>\n",
       "      <td>9.187147</td>\n",
       "      <td>1.916695</td>\n",
       "      <td>1960.7184</td>\n",
       "      <td>0.043286</td>\n",
       "      <td>0</td>\n",
       "      <td>2</td>\n",
       "    </tr>\n",
       "    <tr>\n",
       "      <th>1487</th>\n",
       "      <td>mackerel</td>\n",
       "      <td>42.51</td>\n",
       "      <td>8.548472</td>\n",
       "      <td>1.765924</td>\n",
       "      <td>1807.1001</td>\n",
       "      <td>0.041541</td>\n",
       "      <td>0</td>\n",
       "      <td>2</td>\n",
       "    </tr>\n",
       "    <tr>\n",
       "      <th>1488</th>\n",
       "      <td>mackerel</td>\n",
       "      <td>52.92</td>\n",
       "      <td>10.563010</td>\n",
       "      <td>2.764542</td>\n",
       "      <td>2800.5264</td>\n",
       "      <td>0.052240</td>\n",
       "      <td>0</td>\n",
       "      <td>2</td>\n",
       "    </tr>\n",
       "    <tr>\n",
       "      <th>1489</th>\n",
       "      <td>mackerel</td>\n",
       "      <td>34.97</td>\n",
       "      <td>6.968277</td>\n",
       "      <td>0.935694</td>\n",
       "      <td>1222.9009</td>\n",
       "      <td>0.026757</td>\n",
       "      <td>0</td>\n",
       "      <td>2</td>\n",
       "    </tr>\n",
       "    <tr>\n",
       "      <th>1490</th>\n",
       "      <td>mackerel</td>\n",
       "      <td>44.72</td>\n",
       "      <td>9.023846</td>\n",
       "      <td>1.907446</td>\n",
       "      <td>1999.8784</td>\n",
       "      <td>0.042653</td>\n",
       "      <td>0</td>\n",
       "      <td>2</td>\n",
       "    </tr>\n",
       "    <tr>\n",
       "      <th>1491</th>\n",
       "      <td>mackerel</td>\n",
       "      <td>33.26</td>\n",
       "      <td>7.002656</td>\n",
       "      <td>0.779794</td>\n",
       "      <td>1106.2276</td>\n",
       "      <td>0.023445</td>\n",
       "      <td>0</td>\n",
       "      <td>2</td>\n",
       "    </tr>\n",
       "    <tr>\n",
       "      <th>1492</th>\n",
       "      <td>mackerel</td>\n",
       "      <td>39.69</td>\n",
       "      <td>8.063888</td>\n",
       "      <td>1.273797</td>\n",
       "      <td>1575.2961</td>\n",
       "      <td>0.032094</td>\n",
       "      <td>0</td>\n",
       "      <td>2</td>\n",
       "    </tr>\n",
       "    <tr>\n",
       "      <th>1493</th>\n",
       "      <td>mackerel</td>\n",
       "      <td>29.45</td>\n",
       "      <td>6.016715</td>\n",
       "      <td>0.540470</td>\n",
       "      <td>867.3025</td>\n",
       "      <td>0.018352</td>\n",
       "      <td>0</td>\n",
       "      <td>2</td>\n",
       "    </tr>\n",
       "    <tr>\n",
       "      <th>1494</th>\n",
       "      <td>mackerel</td>\n",
       "      <td>41.14</td>\n",
       "      <td>8.171254</td>\n",
       "      <td>1.675539</td>\n",
       "      <td>1692.4996</td>\n",
       "      <td>0.040728</td>\n",
       "      <td>0</td>\n",
       "      <td>2</td>\n",
       "    </tr>\n",
       "    <tr>\n",
       "      <th>1495</th>\n",
       "      <td>mackerel</td>\n",
       "      <td>41.06</td>\n",
       "      <td>8.252645</td>\n",
       "      <td>1.330602</td>\n",
       "      <td>1685.9236</td>\n",
       "      <td>0.032406</td>\n",
       "      <td>0</td>\n",
       "      <td>2</td>\n",
       "    </tr>\n",
       "    <tr>\n",
       "      <th>1496</th>\n",
       "      <td>mackerel</td>\n",
       "      <td>41.77</td>\n",
       "      <td>8.590338</td>\n",
       "      <td>1.476314</td>\n",
       "      <td>1744.7329</td>\n",
       "      <td>0.035344</td>\n",
       "      <td>0</td>\n",
       "      <td>2</td>\n",
       "    </tr>\n",
       "    <tr>\n",
       "      <th>1497</th>\n",
       "      <td>mackerel</td>\n",
       "      <td>35.25</td>\n",
       "      <td>7.131067</td>\n",
       "      <td>0.851601</td>\n",
       "      <td>1242.5625</td>\n",
       "      <td>0.024159</td>\n",
       "      <td>0</td>\n",
       "      <td>2</td>\n",
       "    </tr>\n",
       "    <tr>\n",
       "      <th>1498</th>\n",
       "      <td>mackerel</td>\n",
       "      <td>36.65</td>\n",
       "      <td>7.519112</td>\n",
       "      <td>1.243252</td>\n",
       "      <td>1343.2225</td>\n",
       "      <td>0.033922</td>\n",
       "      <td>0</td>\n",
       "      <td>2</td>\n",
       "    </tr>\n",
       "    <tr>\n",
       "      <th>1499</th>\n",
       "      <td>mackerel</td>\n",
       "      <td>32.33</td>\n",
       "      <td>6.579096</td>\n",
       "      <td>0.789629</td>\n",
       "      <td>1045.2289</td>\n",
       "      <td>0.024424</td>\n",
       "      <td>0</td>\n",
       "      <td>2</td>\n",
       "    </tr>\n",
       "  </tbody>\n",
       "</table>\n",
       "<p>1500 rows × 8 columns</p>\n",
       "</div>"
      ],
      "text/plain": [
       "          Type  Length      Depth         Kg         L2  LKgRatio  isTuna  \\\n",
       "0         tuna   55.46  13.240930   8.631268  3075.8116  0.155631       1   \n",
       "1         tuna   72.07  17.671346  19.288996  5194.0849  0.267643       1   \n",
       "2         tuna   62.84  15.635367  13.140561  3948.8656  0.209111       1   \n",
       "3         tuna   72.79  18.440841  19.669098  5298.3841  0.270217       1   \n",
       "4         tuna   76.63  19.137488  23.021797  5872.1569  0.300428       1   \n",
       "5         tuna   61.31  14.870117  12.012898  3758.9161  0.195937       1   \n",
       "6         tuna   73.56  18.334414  21.763799  5411.0736  0.295865       1   \n",
       "7         tuna   65.88  16.436831  14.398289  4340.1744  0.218553       1   \n",
       "8         tuna   63.03  15.390727  13.246244  3972.7809  0.210158       1   \n",
       "9         tuna   71.92  17.844251  19.424579  5172.4864  0.270086       1   \n",
       "10        tuna   75.72  18.561395  21.317571  5733.5184  0.281532       1   \n",
       "11        tuna   64.79  15.580317  14.007343  4197.7441  0.216196       1   \n",
       "12        tuna   51.63  12.503213   6.989896  2665.6569  0.135384       1   \n",
       "13        tuna   56.79  14.217174   9.761098  3225.1041  0.171881       1   \n",
       "14        tuna   74.04  18.108083  21.722563  5481.9216  0.293390       1   \n",
       "15        tuna   73.39  17.618273  20.692866  5386.0921  0.281958       1   \n",
       "16        tuna   80.67  19.611210  27.061532  6507.6489  0.335460       1   \n",
       "17        tuna   79.09  18.974578  25.161760  6255.2281  0.318141       1   \n",
       "18        tuna   75.66  19.046334  23.345379  5724.4356  0.308556       1   \n",
       "19        tuna   63.30  15.077333  12.360468  4006.8900  0.195268       1   \n",
       "20        tuna   63.73  15.647493  12.935732  4061.5129  0.202977       1   \n",
       "21        tuna   59.77  14.559803  11.141099  3572.4529  0.186400       1   \n",
       "22        tuna   65.43  15.989722  14.995949  4281.0849  0.229191       1   \n",
       "23        tuna   69.50  16.987016  17.179702  4830.2500  0.247190       1   \n",
       "24        tuna   62.42  15.297564  12.538067  3896.2564  0.200866       1   \n",
       "25        tuna   70.17  16.682835  17.409154  4923.8289  0.248100       1   \n",
       "26        tuna   72.14  17.659036  18.949713  5204.1796  0.262680       1   \n",
       "27        tuna   64.57  15.816363  14.285938  4169.2849  0.221247       1   \n",
       "28        tuna   68.66  17.212031  17.095611  4714.1956  0.248989       1   \n",
       "29        tuna   88.94  21.783584  35.237810  7910.3236  0.396198       1   \n",
       "...        ...     ...        ...        ...        ...       ...     ...   \n",
       "1470  mackerel   24.91   4.993302   0.302532   620.5081  0.012145       0   \n",
       "1471  mackerel   41.38   8.572053   1.494346  1712.3044  0.036113       0   \n",
       "1472  mackerel   41.37   8.311794   1.444555  1711.4769  0.034918       0   \n",
       "1473  mackerel   26.82   5.426485   0.436552   719.3124  0.016277       0   \n",
       "1474  mackerel   46.19   9.390530   2.038712  2133.5161  0.044138       0   \n",
       "1475  mackerel   43.66   8.800120   1.855372  1906.1956  0.042496       0   \n",
       "1476  mackerel   29.75   6.342290   0.639290   885.0625  0.021489       0   \n",
       "1477  mackerel   38.55   7.870027   1.348170  1486.1025  0.034972       0   \n",
       "1478  mackerel   41.92   8.450308   1.831604  1757.2864  0.043693       0   \n",
       "1479  mackerel   39.32   7.892523   1.322272  1546.0624  0.033628       0   \n",
       "1480  mackerel   34.00   6.865855   0.839511  1156.0000  0.024692       0   \n",
       "1481  mackerel   37.92   7.594753   1.108658  1437.9264  0.029237       0   \n",
       "1482  mackerel   32.43   6.487050   0.622862  1051.7049  0.019206       0   \n",
       "1483  mackerel   43.49   8.667636   1.307558  1891.3801  0.030066       0   \n",
       "1484  mackerel   52.71  10.479169   2.762553  2778.3441  0.052410       0   \n",
       "1485  mackerel   35.89   7.196289   0.676833  1288.0921  0.018859       0   \n",
       "1486  mackerel   44.28   9.187147   1.916695  1960.7184  0.043286       0   \n",
       "1487  mackerel   42.51   8.548472   1.765924  1807.1001  0.041541       0   \n",
       "1488  mackerel   52.92  10.563010   2.764542  2800.5264  0.052240       0   \n",
       "1489  mackerel   34.97   6.968277   0.935694  1222.9009  0.026757       0   \n",
       "1490  mackerel   44.72   9.023846   1.907446  1999.8784  0.042653       0   \n",
       "1491  mackerel   33.26   7.002656   0.779794  1106.2276  0.023445       0   \n",
       "1492  mackerel   39.69   8.063888   1.273797  1575.2961  0.032094       0   \n",
       "1493  mackerel   29.45   6.016715   0.540470   867.3025  0.018352       0   \n",
       "1494  mackerel   41.14   8.171254   1.675539  1692.4996  0.040728       0   \n",
       "1495  mackerel   41.06   8.252645   1.330602  1685.9236  0.032406       0   \n",
       "1496  mackerel   41.77   8.590338   1.476314  1744.7329  0.035344       0   \n",
       "1497  mackerel   35.25   7.131067   0.851601  1242.5625  0.024159       0   \n",
       "1498  mackerel   36.65   7.519112   1.243252  1343.2225  0.033922       0   \n",
       "1499  mackerel   32.33   6.579096   0.789629  1045.2289  0.024424       0   \n",
       "\n",
       "      TypeNum  \n",
       "0           0  \n",
       "1           0  \n",
       "2           0  \n",
       "3           0  \n",
       "4           0  \n",
       "5           0  \n",
       "6           0  \n",
       "7           0  \n",
       "8           0  \n",
       "9           0  \n",
       "10          0  \n",
       "11          0  \n",
       "12          0  \n",
       "13          0  \n",
       "14          0  \n",
       "15          0  \n",
       "16          0  \n",
       "17          0  \n",
       "18          0  \n",
       "19          0  \n",
       "20          0  \n",
       "21          0  \n",
       "22          0  \n",
       "23          0  \n",
       "24          0  \n",
       "25          0  \n",
       "26          0  \n",
       "27          0  \n",
       "28          0  \n",
       "29          0  \n",
       "...       ...  \n",
       "1470        2  \n",
       "1471        2  \n",
       "1472        2  \n",
       "1473        2  \n",
       "1474        2  \n",
       "1475        2  \n",
       "1476        2  \n",
       "1477        2  \n",
       "1478        2  \n",
       "1479        2  \n",
       "1480        2  \n",
       "1481        2  \n",
       "1482        2  \n",
       "1483        2  \n",
       "1484        2  \n",
       "1485        2  \n",
       "1486        2  \n",
       "1487        2  \n",
       "1488        2  \n",
       "1489        2  \n",
       "1490        2  \n",
       "1491        2  \n",
       "1492        2  \n",
       "1493        2  \n",
       "1494        2  \n",
       "1495        2  \n",
       "1496        2  \n",
       "1497        2  \n",
       "1498        2  \n",
       "1499        2  \n",
       "\n",
       "[1500 rows x 8 columns]"
      ]
     },
     "execution_count": 6,
     "metadata": {},
     "output_type": "execute_result"
    }
   ],
   "source": [
    "df['TypeNum'] = df['Type'].apply(lambda x: 0 if x == 'tuna' else 1 if x == 'salmon' else 2)\n",
    "df"
   ]
  },
  {
   "cell_type": "markdown",
   "metadata": {
    "collapsed": true
   },
   "source": [
    "# 1. Logistic Regression"
   ]
  },
  {
   "cell_type": "code",
   "execution_count": 7,
   "metadata": {},
   "outputs": [],
   "source": [
    "X = df.loc[:,['Length','Depth']]\n",
    "Y = df['isTuna']"
   ]
  },
  {
   "cell_type": "raw",
   "metadata": {},
   "source": [
    "https://scikit-learn.org/stable/modules/generated/sklearn.model_selection.train_test_split.html"
   ]
  },
  {
   "cell_type": "raw",
   "metadata": {},
   "source": [
    ">> from sklearn.model_selection import train_test_split\n",
    ">>> X_train, X_test, y_train, y_test = train_test_split(\n",
    "...     X, y, test_size=0.33, random_state=42)"
   ]
  },
  {
   "cell_type": "code",
   "execution_count": 8,
   "metadata": {},
   "outputs": [],
   "source": [
    "# 데이터 분리: 학습 데이터 + 테스트 데이터\n",
    "from sklearn.model_selection import train_test_split\n",
    "X_train, X_test, y_train, y_test = train_test_split(\n",
    "    X, Y, test_size=0.3 ,random_state=123)"
   ]
  },
  {
   "cell_type": "raw",
   "metadata": {},
   "source": [
    "https://scikit-learn.org/stable/modules/generated/sklearn.linear_model.LogisticRegression.html"
   ]
  },
  {
   "cell_type": "raw",
   "metadata": {},
   "source": [
    ">>> from sklearn.datasets import load_iris\n",
    ">>> from sklearn.linear_model import LogisticRegression\n",
    ">>> X, y = load_iris(return_X_y=True)\n",
    ">>> clf = LogisticRegression(random_state=0, solver='lbfgs',\n",
    "...                          multi_class='multinomial').fit(X, y)\n",
    ">>> clf.predict(X[:2, :])\n",
    "array([0, 0])\n",
    ">>> clf.predict_proba(X[:2, :]) \n",
    "array([[9.8...e-01, 1.8...e-02, 1.4...e-08],\n",
    "       [9.7...e-01, 2.8...e-02, ...e-08]])\n",
    ">>> clf.score(X, y)\n",
    "0.97..."
   ]
  },
  {
   "cell_type": "code",
   "execution_count": 9,
   "metadata": {},
   "outputs": [],
   "source": [
    "from sklearn.linear_model import LogisticRegression\n",
    "# 모델 생성\n",
    "model = LogisticRegression(solver='lbfgs')"
   ]
  },
  {
   "cell_type": "code",
   "execution_count": 10,
   "metadata": {},
   "outputs": [
    {
     "data": {
      "text/plain": [
       "LogisticRegression(C=1.0, class_weight=None, dual=False, fit_intercept=True,\n",
       "          intercept_scaling=1, max_iter=100, multi_class='warn',\n",
       "          n_jobs=None, penalty='l2', random_state=None, solver='lbfgs',\n",
       "          tol=0.0001, verbose=0, warm_start=False)"
      ]
     },
     "execution_count": 10,
     "metadata": {},
     "output_type": "execute_result"
    }
   ],
   "source": [
    "model"
   ]
  },
  {
   "cell_type": "code",
   "execution_count": 11,
   "metadata": {},
   "outputs": [
    {
     "data": {
      "text/plain": [
       "LogisticRegression(C=1.0, class_weight=None, dual=False, fit_intercept=True,\n",
       "          intercept_scaling=1, max_iter=100, multi_class='warn',\n",
       "          n_jobs=None, penalty='l2', random_state=None, solver='lbfgs',\n",
       "          tol=0.0001, verbose=0, warm_start=False)"
      ]
     },
     "execution_count": 11,
     "metadata": {},
     "output_type": "execute_result"
    }
   ],
   "source": [
    "# 모델 학습\n",
    "model.fit(X_train, y_train)"
   ]
  },
  {
   "cell_type": "code",
   "execution_count": 12,
   "metadata": {},
   "outputs": [
    {
     "data": {
      "text/plain": [
       "array([1, 0, 0, 0, 1, 1, 0, 0, 0, 0, 0, 0, 0, 1, 1, 1, 0, 1, 0, 0, 0, 1,\n",
       "       0, 1, 0, 0, 0, 0, 0, 0, 0, 0, 1, 0, 0, 1, 1, 0, 0, 1, 1, 1, 1, 1,\n",
       "       0, 0, 0, 0, 0, 1, 0, 0, 0, 1, 1, 1, 1, 0, 0, 0, 0, 1, 0, 0, 0, 1,\n",
       "       1, 0, 1, 0, 0, 0, 1, 0, 0, 0, 1, 0, 0, 0, 1, 0, 1, 1, 0, 0, 1, 0,\n",
       "       0, 0, 0, 0, 1, 1, 0, 0, 1, 0, 1, 0, 0, 0, 1, 0, 0, 0, 0, 0, 1, 1,\n",
       "       0, 0, 0, 0, 0, 0, 0, 0, 1, 1, 0, 0, 0, 0, 1, 0, 0, 0, 0, 1, 0, 1,\n",
       "       0, 0, 0, 1, 0, 0, 0, 1, 0, 0, 0, 0, 0, 0, 1, 1, 0, 0, 0, 1, 0, 0,\n",
       "       0, 1, 0, 0, 0, 1, 0, 0, 0, 1, 1, 0, 1, 1, 0, 1, 0, 0, 1, 0, 0, 0,\n",
       "       0, 0, 0, 0, 1, 1, 1, 0, 0, 0, 0, 0, 0, 0, 1, 0, 1, 0, 0, 0, 1, 0,\n",
       "       0, 0, 0, 0, 1, 1, 0, 0, 0, 0, 0, 0, 0, 0, 0, 0, 0, 0, 0, 1, 0, 0,\n",
       "       0, 0, 1, 1, 0, 0, 1, 0, 1, 0, 0, 0, 0, 1, 1, 1, 1, 1, 1, 0, 1, 0,\n",
       "       0, 0, 0, 1, 1, 0, 0, 0, 1, 0, 0, 1, 1, 0, 0, 0, 1, 0, 1, 1, 1, 0,\n",
       "       1, 0, 0, 0, 1, 0, 1, 1, 0, 1, 0, 0, 0, 0, 0, 0, 0, 0, 0, 1, 1, 0,\n",
       "       0, 0, 0, 1, 0, 0, 0, 1, 1, 1, 1, 0, 1, 0, 0, 1, 0, 0, 0, 0, 0, 1,\n",
       "       1, 0, 0, 1, 0, 0, 0, 0, 0, 0, 0, 0, 0, 1, 1, 0, 0, 0, 0, 0, 0, 1,\n",
       "       0, 1, 0, 1, 1, 0, 0, 1, 0, 1, 0, 0, 0, 0, 0, 0, 1, 0, 0, 1, 1, 0,\n",
       "       0, 0, 0, 0, 0, 0, 1, 0, 1, 0, 0, 0, 1, 1, 1, 1, 1, 0, 0, 1, 0, 0,\n",
       "       0, 0, 0, 0, 0, 0, 1, 1, 1, 1, 1, 1, 0, 0, 0, 0, 1, 0, 0, 0, 0, 1,\n",
       "       0, 1, 0, 0, 1, 0, 1, 0, 1, 1, 0, 1, 0, 1, 1, 0, 0, 0, 0, 1, 0, 1,\n",
       "       0, 0, 0, 0, 0, 0, 0, 1, 0, 1, 0, 0, 1, 0, 1, 0, 1, 1, 0, 0, 0, 0,\n",
       "       0, 0, 1, 0, 1, 0, 1, 1, 0, 0], dtype=int64)"
      ]
     },
     "execution_count": 12,
     "metadata": {},
     "output_type": "execute_result"
    }
   ],
   "source": [
    "# 결과 예측\n",
    "prediction1 = model.predict(X_test)\n",
    "prediction1"
   ]
  },
  {
   "cell_type": "code",
   "execution_count": 13,
   "metadata": {},
   "outputs": [
    {
     "data": {
      "text/plain": [
       "1"
      ]
     },
     "execution_count": 13,
     "metadata": {},
     "output_type": "execute_result"
    }
   ],
   "source": [
    "prediction1[0]"
   ]
  },
  {
   "cell_type": "code",
   "execution_count": 14,
   "metadata": {},
   "outputs": [
    {
     "data": {
      "text/plain": [
       "0"
      ]
     },
     "execution_count": 14,
     "metadata": {},
     "output_type": "execute_result"
    }
   ],
   "source": [
    "prediction1[100]"
   ]
  },
  {
   "cell_type": "code",
   "execution_count": 15,
   "metadata": {},
   "outputs": [
    {
     "data": {
      "text/html": [
       "<div>\n",
       "<style scoped>\n",
       "    .dataframe tbody tr th:only-of-type {\n",
       "        vertical-align: middle;\n",
       "    }\n",
       "\n",
       "    .dataframe tbody tr th {\n",
       "        vertical-align: top;\n",
       "    }\n",
       "\n",
       "    .dataframe thead th {\n",
       "        text-align: right;\n",
       "    }\n",
       "</style>\n",
       "<table border=\"1\" class=\"dataframe\">\n",
       "  <thead>\n",
       "    <tr style=\"text-align: right;\">\n",
       "      <th></th>\n",
       "      <th>0</th>\n",
       "    </tr>\n",
       "  </thead>\n",
       "  <tbody>\n",
       "    <tr>\n",
       "      <th>0</th>\n",
       "      <td>1</td>\n",
       "    </tr>\n",
       "    <tr>\n",
       "      <th>1</th>\n",
       "      <td>0</td>\n",
       "    </tr>\n",
       "    <tr>\n",
       "      <th>2</th>\n",
       "      <td>0</td>\n",
       "    </tr>\n",
       "    <tr>\n",
       "      <th>3</th>\n",
       "      <td>0</td>\n",
       "    </tr>\n",
       "    <tr>\n",
       "      <th>4</th>\n",
       "      <td>1</td>\n",
       "    </tr>\n",
       "  </tbody>\n",
       "</table>\n",
       "</div>"
      ],
      "text/plain": [
       "   0\n",
       "0  1\n",
       "1  0\n",
       "2  0\n",
       "3  0\n",
       "4  1"
      ]
     },
     "execution_count": 15,
     "metadata": {},
     "output_type": "execute_result"
    }
   ],
   "source": [
    "pd_predic = pd.DataFrame(prediction1)\n",
    "pd_predic.head()"
   ]
  },
  {
   "cell_type": "raw",
   "metadata": {},
   "source": [
    "https://scikit-learn.org/stable/modules/generated/sklearn.metrics.accuracy_score.html"
   ]
  },
  {
   "cell_type": "raw",
   "metadata": {},
   "source": [
    ">>> from sklearn.metrics import accuracy_score\n",
    ">>> y_pred = [0, 2, 1, 3]\n",
    ">>> y_true = [0, 1, 2, 3]\n",
    ">>> accuracy_score(y_true, y_pred)\n",
    "0.5\n",
    ">>> accuracy_score(y_true, y_pred, normalize=False)\n",
    "2"
   ]
  },
  {
   "cell_type": "code",
   "execution_count": 16,
   "metadata": {},
   "outputs": [
    {
     "name": "stdout",
     "output_type": "stream",
     "text": [
      "0.8622222222222222\n"
     ]
    }
   ],
   "source": [
    "# 정확도 확인\n",
    "from sklearn.metrics import accuracy_score\n",
    "print(accuracy_score(prediction1, y_test))"
   ]
  },
  {
   "cell_type": "code",
   "execution_count": 17,
   "metadata": {},
   "outputs": [],
   "source": [
    "from sklearn import metrics"
   ]
  },
  {
   "cell_type": "code",
   "execution_count": 18,
   "metadata": {},
   "outputs": [
    {
     "name": "stdout",
     "output_type": "stream",
     "text": [
      "              precision    recall  f1-score   support\n",
      "\n",
      "           0       0.90      0.89      0.90       304\n",
      "           1       0.78      0.80      0.79       146\n",
      "\n",
      "   micro avg       0.86      0.86      0.86       450\n",
      "   macro avg       0.84      0.85      0.84       450\n",
      "weighted avg       0.86      0.86      0.86       450\n",
      "\n"
     ]
    }
   ],
   "source": [
    "# Score - precision, recall, f1-score\n",
    "print(metrics.classification_report(y_test, prediction1))"
   ]
  },
  {
   "cell_type": "code",
   "execution_count": 19,
   "metadata": {},
   "outputs": [
    {
     "data": {
      "text/html": [
       "<div>\n",
       "<style scoped>\n",
       "    .dataframe tbody tr th:only-of-type {\n",
       "        vertical-align: middle;\n",
       "    }\n",
       "\n",
       "    .dataframe tbody tr th {\n",
       "        vertical-align: top;\n",
       "    }\n",
       "\n",
       "    .dataframe thead th {\n",
       "        text-align: right;\n",
       "    }\n",
       "</style>\n",
       "<table border=\"1\" class=\"dataframe\">\n",
       "  <thead>\n",
       "    <tr style=\"text-align: right;\">\n",
       "      <th>isTuna</th>\n",
       "      <th>0</th>\n",
       "      <th>1</th>\n",
       "      <th>All</th>\n",
       "    </tr>\n",
       "    <tr>\n",
       "      <th>row_0</th>\n",
       "      <th></th>\n",
       "      <th></th>\n",
       "      <th></th>\n",
       "    </tr>\n",
       "  </thead>\n",
       "  <tbody>\n",
       "    <tr>\n",
       "      <th>0</th>\n",
       "      <td>271</td>\n",
       "      <td>29</td>\n",
       "      <td>300</td>\n",
       "    </tr>\n",
       "    <tr>\n",
       "      <th>1</th>\n",
       "      <td>33</td>\n",
       "      <td>117</td>\n",
       "      <td>150</td>\n",
       "    </tr>\n",
       "    <tr>\n",
       "      <th>All</th>\n",
       "      <td>304</td>\n",
       "      <td>146</td>\n",
       "      <td>450</td>\n",
       "    </tr>\n",
       "  </tbody>\n",
       "</table>\n",
       "</div>"
      ],
      "text/plain": [
       "isTuna    0    1  All\n",
       "row_0                \n",
       "0       271   29  300\n",
       "1        33  117  150\n",
       "All     304  146  450"
      ]
     },
     "execution_count": 19,
     "metadata": {},
     "output_type": "execute_result"
    }
   ],
   "source": [
    "# Confusion Matrix 빈도수 만들기\n",
    "pd.crosstab(prediction1, y_test, margins=True)"
   ]
  },
  {
   "cell_type": "markdown",
   "metadata": {
    "collapsed": true
   },
   "source": [
    "---"
   ]
  },
  {
   "cell_type": "markdown",
   "metadata": {
    "collapsed": true
   },
   "source": [
    "# 2. Support Vector Machine"
   ]
  },
  {
   "cell_type": "code",
   "execution_count": 20,
   "metadata": {},
   "outputs": [
    {
     "data": {
      "text/html": [
       "<div>\n",
       "<style scoped>\n",
       "    .dataframe tbody tr th:only-of-type {\n",
       "        vertical-align: middle;\n",
       "    }\n",
       "\n",
       "    .dataframe tbody tr th {\n",
       "        vertical-align: top;\n",
       "    }\n",
       "\n",
       "    .dataframe thead th {\n",
       "        text-align: right;\n",
       "    }\n",
       "</style>\n",
       "<table border=\"1\" class=\"dataframe\">\n",
       "  <thead>\n",
       "    <tr style=\"text-align: right;\">\n",
       "      <th></th>\n",
       "      <th>Type</th>\n",
       "      <th>Length</th>\n",
       "      <th>Depth</th>\n",
       "      <th>Kg</th>\n",
       "      <th>L2</th>\n",
       "      <th>LKgRatio</th>\n",
       "      <th>isTuna</th>\n",
       "      <th>TypeNum</th>\n",
       "    </tr>\n",
       "  </thead>\n",
       "  <tbody>\n",
       "    <tr>\n",
       "      <th>0</th>\n",
       "      <td>tuna</td>\n",
       "      <td>55.46</td>\n",
       "      <td>13.240930</td>\n",
       "      <td>8.631268</td>\n",
       "      <td>3075.8116</td>\n",
       "      <td>0.155631</td>\n",
       "      <td>1</td>\n",
       "      <td>0</td>\n",
       "    </tr>\n",
       "    <tr>\n",
       "      <th>1</th>\n",
       "      <td>tuna</td>\n",
       "      <td>72.07</td>\n",
       "      <td>17.671346</td>\n",
       "      <td>19.288996</td>\n",
       "      <td>5194.0849</td>\n",
       "      <td>0.267643</td>\n",
       "      <td>1</td>\n",
       "      <td>0</td>\n",
       "    </tr>\n",
       "    <tr>\n",
       "      <th>2</th>\n",
       "      <td>tuna</td>\n",
       "      <td>62.84</td>\n",
       "      <td>15.635367</td>\n",
       "      <td>13.140561</td>\n",
       "      <td>3948.8656</td>\n",
       "      <td>0.209111</td>\n",
       "      <td>1</td>\n",
       "      <td>0</td>\n",
       "    </tr>\n",
       "    <tr>\n",
       "      <th>3</th>\n",
       "      <td>tuna</td>\n",
       "      <td>72.79</td>\n",
       "      <td>18.440841</td>\n",
       "      <td>19.669098</td>\n",
       "      <td>5298.3841</td>\n",
       "      <td>0.270217</td>\n",
       "      <td>1</td>\n",
       "      <td>0</td>\n",
       "    </tr>\n",
       "    <tr>\n",
       "      <th>4</th>\n",
       "      <td>tuna</td>\n",
       "      <td>76.63</td>\n",
       "      <td>19.137488</td>\n",
       "      <td>23.021797</td>\n",
       "      <td>5872.1569</td>\n",
       "      <td>0.300428</td>\n",
       "      <td>1</td>\n",
       "      <td>0</td>\n",
       "    </tr>\n",
       "  </tbody>\n",
       "</table>\n",
       "</div>"
      ],
      "text/plain": [
       "   Type  Length      Depth         Kg         L2  LKgRatio  isTuna  TypeNum\n",
       "0  tuna   55.46  13.240930   8.631268  3075.8116  0.155631       1        0\n",
       "1  tuna   72.07  17.671346  19.288996  5194.0849  0.267643       1        0\n",
       "2  tuna   62.84  15.635367  13.140561  3948.8656  0.209111       1        0\n",
       "3  tuna   72.79  18.440841  19.669098  5298.3841  0.270217       1        0\n",
       "4  tuna   76.63  19.137488  23.021797  5872.1569  0.300428       1        0"
      ]
     },
     "execution_count": 20,
     "metadata": {},
     "output_type": "execute_result"
    }
   ],
   "source": [
    "df.head()"
   ]
  },
  {
   "cell_type": "code",
   "execution_count": 21,
   "metadata": {},
   "outputs": [],
   "source": [
    "X = df.loc[:,['Length','Depth']]\n",
    "Y = df['TypeNum']"
   ]
  },
  {
   "cell_type": "code",
   "execution_count": 22,
   "metadata": {},
   "outputs": [],
   "source": [
    "# 데이터 분리: 학습 데이터 + 테스트 데이터\n",
    "from sklearn.model_selection import train_test_split\n",
    "X_train, X_test, y_train, y_test = train_test_split(\n",
    "    X, Y, test_size=0.3 ,random_state=123)"
   ]
  },
  {
   "cell_type": "raw",
   "metadata": {},
   "source": [
    "https://scikit-learn.org/stable/modules/generated/sklearn.svm.SVC.html"
   ]
  },
  {
   "cell_type": "raw",
   "metadata": {},
   "source": [
    ">>> import numpy as np\n",
    ">>> X = np.array([[-1, -1], [-2, -1], [1, 1], [2, 1]])\n",
    ">>> y = np.array([1, 1, 2, 2])\n",
    ">>> from sklearn.svm import SVC\n",
    ">>> clf = SVC(gamma='auto')\n",
    ">>> clf.fit(X, y) \n",
    "SVC(C=1.0, cache_size=200, class_weight=None, coef0=0.0,\n",
    "    decision_function_shape='ovr', degree=3, gamma='auto', kernel='rbf',\n",
    "    max_iter=-1, probability=False, random_state=None, shrinking=True,\n",
    "    tol=0.001, verbose=False)\n",
    ">>> print(clf.predict([[-0.8, -1]]))\n",
    "[1]"
   ]
  },
  {
   "cell_type": "code",
   "execution_count": 23,
   "metadata": {},
   "outputs": [],
   "source": [
    "from sklearn.svm import SVC\n",
    "# 모델 생성\n",
    "model = SVC(kernel='linear', C=0.1, gamma=0.1)"
   ]
  },
  {
   "cell_type": "code",
   "execution_count": 24,
   "metadata": {},
   "outputs": [
    {
     "data": {
      "text/plain": [
       "SVC(C=0.1, cache_size=200, class_weight=None, coef0=0.0,\n",
       "  decision_function_shape='ovr', degree=3, gamma=0.1, kernel='linear',\n",
       "  max_iter=-1, probability=False, random_state=None, shrinking=True,\n",
       "  tol=0.001, verbose=False)"
      ]
     },
     "execution_count": 24,
     "metadata": {},
     "output_type": "execute_result"
    }
   ],
   "source": [
    "# 모델 학습\n",
    "model.fit(X_train, y_train)"
   ]
  },
  {
   "cell_type": "code",
   "execution_count": 25,
   "metadata": {},
   "outputs": [
    {
     "data": {
      "text/plain": [
       "array([0, 2, 1, 2, 0, 0, 2, 1, 1, 1, 1, 2, 2, 0, 0, 0, 2, 0, 1, 1, 2, 0,\n",
       "       2, 0, 0, 1, 2, 1, 2, 1, 2, 2, 0, 1, 1, 0, 0, 1, 2, 0, 0, 0, 0, 0,\n",
       "       2, 2, 1, 2, 2, 0, 1, 0, 1, 0, 0, 0, 0, 2, 2, 1, 1, 0, 1, 1, 2, 0,\n",
       "       0, 2, 0, 1, 2, 2, 0, 1, 2, 1, 0, 2, 1, 1, 0, 2, 1, 0, 2, 2, 0, 1,\n",
       "       2, 1, 2, 2, 0, 0, 1, 2, 0, 1, 0, 1, 2, 2, 0, 1, 2, 2, 1, 1, 0, 0,\n",
       "       1, 2, 1, 2, 1, 1, 2, 1, 0, 0, 1, 1, 2, 1, 0, 1, 1, 1, 2, 0, 2, 0,\n",
       "       2, 1, 1, 0, 2, 1, 1, 0, 2, 2, 2, 1, 1, 1, 0, 0, 2, 1, 2, 1, 2, 2,\n",
       "       2, 0, 1, 2, 1, 1, 2, 1, 1, 0, 0, 1, 0, 0, 2, 0, 2, 1, 0, 1, 1, 2,\n",
       "       1, 2, 1, 2, 0, 0, 0, 1, 1, 1, 0, 2, 1, 2, 0, 1, 0, 1, 1, 2, 0, 2,\n",
       "       1, 2, 0, 1, 1, 0, 2, 2, 2, 2, 1, 1, 2, 2, 2, 1, 2, 1, 2, 0, 1, 1,\n",
       "       2, 1, 0, 0, 1, 2, 0, 1, 0, 2, 1, 1, 1, 0, 0, 0, 0, 0, 0, 1, 0, 2,\n",
       "       1, 2, 1, 0, 0, 2, 2, 2, 0, 2, 2, 0, 0, 1, 1, 1, 0, 1, 0, 0, 0, 2,\n",
       "       0, 2, 1, 1, 0, 1, 0, 0, 1, 0, 1, 1, 1, 2, 1, 2, 1, 1, 1, 0, 0, 1,\n",
       "       2, 1, 1, 0, 2, 1, 2, 0, 0, 0, 0, 2, 0, 2, 1, 0, 1, 2, 1, 2, 1, 0,\n",
       "       0, 1, 2, 0, 1, 1, 2, 2, 1, 1, 1, 2, 1, 0, 0, 1, 1, 1, 2, 2, 1, 0,\n",
       "       2, 0, 2, 0, 0, 2, 1, 0, 1, 0, 2, 1, 1, 1, 1, 2, 0, 2, 2, 0, 0, 1,\n",
       "       2, 1, 2, 1, 2, 2, 0, 2, 0, 1, 2, 1, 0, 0, 0, 0, 0, 2, 1, 0, 1, 1,\n",
       "       2, 2, 2, 2, 1, 2, 0, 0, 0, 0, 0, 0, 1, 2, 2, 1, 0, 2, 2, 2, 1, 0,\n",
       "       0, 0, 2, 1, 0, 1, 0, 1, 0, 0, 1, 0, 2, 0, 0, 1, 1, 0, 2, 0, 2, 0,\n",
       "       1, 1, 2, 2, 2, 1, 2, 0, 2, 0, 2, 2, 0, 1, 0, 1, 0, 0, 1, 2, 2, 1,\n",
       "       1, 2, 0, 2, 0, 2, 0, 0, 2, 1], dtype=int64)"
      ]
     },
     "execution_count": 25,
     "metadata": {},
     "output_type": "execute_result"
    }
   ],
   "source": [
    "# 결과 예측\n",
    "prediction2 = model.predict(X_test)\n",
    "prediction2"
   ]
  },
  {
   "cell_type": "raw",
   "metadata": {},
   "source": [
    ">>> from sklearn.metrics import accuracy_score\n",
    ">>> y_pred = [0, 2, 1, 3]\n",
    ">>> y_true = [0, 1, 2, 3]\n",
    ">>> accuracy_score(y_true, y_pred)\n",
    "0.5\n",
    ">>> accuracy_score(y_true, y_pred, normalize=False)\n",
    "2"
   ]
  },
  {
   "cell_type": "code",
   "execution_count": 26,
   "metadata": {},
   "outputs": [
    {
     "name": "stdout",
     "output_type": "stream",
     "text": [
      "0.8622222222222222\n"
     ]
    }
   ],
   "source": [
    "# 정확도 확인\n",
    "from sklearn.metrics import accuracy_score\n",
    "print(accuracy_score(prediction2, y_test))"
   ]
  },
  {
   "cell_type": "code",
   "execution_count": 27,
   "metadata": {},
   "outputs": [
    {
     "name": "stdout",
     "output_type": "stream",
     "text": [
      "              precision    recall  f1-score   support\n",
      "\n",
      "           0       0.78      0.81      0.79       146\n",
      "           1       0.82      0.79      0.81       163\n",
      "           2       1.00      1.00      1.00       141\n",
      "\n",
      "   micro avg       0.86      0.86      0.86       450\n",
      "   macro avg       0.87      0.87      0.87       450\n",
      "weighted avg       0.86      0.86      0.86       450\n",
      "\n"
     ]
    }
   ],
   "source": [
    "# Score - precision, recall, f1-score\n",
    "print(metrics.classification_report(y_test, prediction2))"
   ]
  },
  {
   "cell_type": "markdown",
   "metadata": {
    "collapsed": true
   },
   "source": [
    "## 2.1 Support Vector Machine - PCA"
   ]
  },
  {
   "cell_type": "code",
   "execution_count": 28,
   "metadata": {},
   "outputs": [
    {
     "data": {
      "text/html": [
       "<div>\n",
       "<style scoped>\n",
       "    .dataframe tbody tr th:only-of-type {\n",
       "        vertical-align: middle;\n",
       "    }\n",
       "\n",
       "    .dataframe tbody tr th {\n",
       "        vertical-align: top;\n",
       "    }\n",
       "\n",
       "    .dataframe thead th {\n",
       "        text-align: right;\n",
       "    }\n",
       "</style>\n",
       "<table border=\"1\" class=\"dataframe\">\n",
       "  <thead>\n",
       "    <tr style=\"text-align: right;\">\n",
       "      <th></th>\n",
       "      <th>Type</th>\n",
       "      <th>Length</th>\n",
       "      <th>Depth</th>\n",
       "      <th>Kg</th>\n",
       "      <th>L2</th>\n",
       "      <th>LKgRatio</th>\n",
       "      <th>isTuna</th>\n",
       "      <th>TypeNum</th>\n",
       "    </tr>\n",
       "  </thead>\n",
       "  <tbody>\n",
       "    <tr>\n",
       "      <th>0</th>\n",
       "      <td>tuna</td>\n",
       "      <td>55.46</td>\n",
       "      <td>13.240930</td>\n",
       "      <td>8.631268</td>\n",
       "      <td>3075.8116</td>\n",
       "      <td>0.155631</td>\n",
       "      <td>1</td>\n",
       "      <td>0</td>\n",
       "    </tr>\n",
       "    <tr>\n",
       "      <th>1</th>\n",
       "      <td>tuna</td>\n",
       "      <td>72.07</td>\n",
       "      <td>17.671346</td>\n",
       "      <td>19.288996</td>\n",
       "      <td>5194.0849</td>\n",
       "      <td>0.267643</td>\n",
       "      <td>1</td>\n",
       "      <td>0</td>\n",
       "    </tr>\n",
       "    <tr>\n",
       "      <th>2</th>\n",
       "      <td>tuna</td>\n",
       "      <td>62.84</td>\n",
       "      <td>15.635367</td>\n",
       "      <td>13.140561</td>\n",
       "      <td>3948.8656</td>\n",
       "      <td>0.209111</td>\n",
       "      <td>1</td>\n",
       "      <td>0</td>\n",
       "    </tr>\n",
       "    <tr>\n",
       "      <th>3</th>\n",
       "      <td>tuna</td>\n",
       "      <td>72.79</td>\n",
       "      <td>18.440841</td>\n",
       "      <td>19.669098</td>\n",
       "      <td>5298.3841</td>\n",
       "      <td>0.270217</td>\n",
       "      <td>1</td>\n",
       "      <td>0</td>\n",
       "    </tr>\n",
       "    <tr>\n",
       "      <th>4</th>\n",
       "      <td>tuna</td>\n",
       "      <td>76.63</td>\n",
       "      <td>19.137488</td>\n",
       "      <td>23.021797</td>\n",
       "      <td>5872.1569</td>\n",
       "      <td>0.300428</td>\n",
       "      <td>1</td>\n",
       "      <td>0</td>\n",
       "    </tr>\n",
       "  </tbody>\n",
       "</table>\n",
       "</div>"
      ],
      "text/plain": [
       "   Type  Length      Depth         Kg         L2  LKgRatio  isTuna  TypeNum\n",
       "0  tuna   55.46  13.240930   8.631268  3075.8116  0.155631       1        0\n",
       "1  tuna   72.07  17.671346  19.288996  5194.0849  0.267643       1        0\n",
       "2  tuna   62.84  15.635367  13.140561  3948.8656  0.209111       1        0\n",
       "3  tuna   72.79  18.440841  19.669098  5298.3841  0.270217       1        0\n",
       "4  tuna   76.63  19.137488  23.021797  5872.1569  0.300428       1        0"
      ]
     },
     "execution_count": 28,
     "metadata": {},
     "output_type": "execute_result"
    }
   ],
   "source": [
    "df.head()"
   ]
  },
  {
   "cell_type": "code",
   "execution_count": 29,
   "metadata": {},
   "outputs": [],
   "source": [
    "X = df.loc[:,['Length','Depth','Kg','L2','LKgRatio']]\n",
    "Y = df['TypeNum']"
   ]
  },
  {
   "cell_type": "code",
   "execution_count": 30,
   "metadata": {},
   "outputs": [
    {
     "data": {
      "text/html": [
       "<div>\n",
       "<style scoped>\n",
       "    .dataframe tbody tr th:only-of-type {\n",
       "        vertical-align: middle;\n",
       "    }\n",
       "\n",
       "    .dataframe tbody tr th {\n",
       "        vertical-align: top;\n",
       "    }\n",
       "\n",
       "    .dataframe thead th {\n",
       "        text-align: right;\n",
       "    }\n",
       "</style>\n",
       "<table border=\"1\" class=\"dataframe\">\n",
       "  <thead>\n",
       "    <tr style=\"text-align: right;\">\n",
       "      <th></th>\n",
       "      <th>Length</th>\n",
       "      <th>Depth</th>\n",
       "      <th>Kg</th>\n",
       "      <th>L2</th>\n",
       "      <th>LKgRatio</th>\n",
       "    </tr>\n",
       "  </thead>\n",
       "  <tbody>\n",
       "    <tr>\n",
       "      <th>891</th>\n",
       "      <td>62.69</td>\n",
       "      <td>15.797470</td>\n",
       "      <td>7.021431</td>\n",
       "      <td>3930.0361</td>\n",
       "      <td>0.112002</td>\n",
       "    </tr>\n",
       "    <tr>\n",
       "      <th>1385</th>\n",
       "      <td>39.07</td>\n",
       "      <td>7.885989</td>\n",
       "      <td>1.343569</td>\n",
       "      <td>1526.4649</td>\n",
       "      <td>0.034389</td>\n",
       "    </tr>\n",
       "    <tr>\n",
       "      <th>1186</th>\n",
       "      <td>42.02</td>\n",
       "      <td>8.244949</td>\n",
       "      <td>1.960338</td>\n",
       "      <td>1765.6804</td>\n",
       "      <td>0.046652</td>\n",
       "    </tr>\n",
       "    <tr>\n",
       "      <th>489</th>\n",
       "      <td>68.43</td>\n",
       "      <td>16.813894</td>\n",
       "      <td>15.929744</td>\n",
       "      <td>4682.6649</td>\n",
       "      <td>0.232789</td>\n",
       "    </tr>\n",
       "    <tr>\n",
       "      <th>1236</th>\n",
       "      <td>43.48</td>\n",
       "      <td>8.976522</td>\n",
       "      <td>1.708537</td>\n",
       "      <td>1890.5104</td>\n",
       "      <td>0.039295</td>\n",
       "    </tr>\n",
       "  </tbody>\n",
       "</table>\n",
       "</div>"
      ],
      "text/plain": [
       "      Length      Depth         Kg         L2  LKgRatio\n",
       "891    62.69  15.797470   7.021431  3930.0361  0.112002\n",
       "1385   39.07   7.885989   1.343569  1526.4649  0.034389\n",
       "1186   42.02   8.244949   1.960338  1765.6804  0.046652\n",
       "489    68.43  16.813894  15.929744  4682.6649  0.232789\n",
       "1236   43.48   8.976522   1.708537  1890.5104  0.039295"
      ]
     },
     "execution_count": 30,
     "metadata": {},
     "output_type": "execute_result"
    }
   ],
   "source": [
    "# 데이터 분리: 학습 데이터 + 테스트 데이터\n",
    "from sklearn.model_selection import train_test_split\n",
    "X_train, X_test, y_train, y_test = train_test_split(\n",
    "    X, Y, test_size=0.3 ,random_state=123)\n",
    "X_train.head()"
   ]
  },
  {
   "cell_type": "raw",
   "metadata": {},
   "source": [
    ">>> import numpy as np\n",
    ">>> from sklearn.decomposition import PCA\n",
    ">>> X = np.array([[-1, -1], [-2, -1], [-3, -2], [1, 1], [2, 1], [3, 2]])\n",
    ">>> pca = PCA(n_components=2)\n",
    ">>> pca.fit(X)  \n",
    "PCA(copy=True, iterated_power='auto', n_components=2, random_state=None,\n",
    "  svd_solver='auto', tol=0.0, whiten=False)\n",
    ">>> print(pca.explained_variance_ratio_)  \n",
    "[0.9924... 0.0075...]\n",
    ">>> print(pca.singular_values_)  \n",
    "[6.30061... 0.54980...]"
   ]
  },
  {
   "cell_type": "code",
   "execution_count": 65,
   "metadata": {},
   "outputs": [],
   "source": [
    "from sklearn.decomposition import PCA\n",
    "# PCA 모델 생성\n",
    "pca = PCA(n_components=2)\n",
    "\n",
    "# PCA Transform\n",
    "X_train = pca.fit_transform(X_train)\n"
   ]
  },
  {
   "cell_type": "code",
   "execution_count": 69,
   "metadata": {},
   "outputs": [
    {
     "data": {
      "text/plain": [
       "array([[ 5.79067539e+02, -4.40272644e+00],\n",
       "       [-1.82463222e+03,  1.41413213e+00],\n",
       "       [-1.58539940e+03,  6.90576262e-01],\n",
       "       ...,\n",
       "       [-1.92679811e+03,  1.82125134e+00],\n",
       "       [-1.78926438e+03,  1.13508363e+00],\n",
       "       [-9.73507159e+02, -1.78337838e+00]])"
      ]
     },
     "execution_count": 69,
     "metadata": {},
     "output_type": "execute_result"
    }
   ],
   "source": [
    "X_train"
   ]
  },
  {
   "cell_type": "code",
   "execution_count": 66,
   "metadata": {},
   "outputs": [
    {
     "data": {
      "text/plain": [
       "(1050, 2)"
      ]
     },
     "execution_count": 66,
     "metadata": {},
     "output_type": "execute_result"
    }
   ],
   "source": [
    "X_train.shape"
   ]
  },
  {
   "cell_type": "code",
   "execution_count": 67,
   "metadata": {},
   "outputs": [],
   "source": [
    "X_test = pca.transform(X_test)"
   ]
  },
  {
   "cell_type": "code",
   "execution_count": 70,
   "metadata": {},
   "outputs": [
    {
     "data": {
      "text/plain": [
       "(450, 2)"
      ]
     },
     "execution_count": 70,
     "metadata": {},
     "output_type": "execute_result"
    }
   ],
   "source": [
    "X_test.shape"
   ]
  },
  {
   "cell_type": "code",
   "execution_count": 35,
   "metadata": {},
   "outputs": [
    {
     "name": "stdout",
     "output_type": "stream",
     "text": [
      "0.9844444444444445\n"
     ]
    }
   ],
   "source": [
    "from sklearn.svm import SVC\n",
    "# 모델 생성\n",
    "model = SVC(kernel='linear', C=0.1, gamma=0.1)\n",
    "\n",
    "# 모델 학습\n",
    "#model.fit(X_train, y_train.values.ravel())\n",
    "model.fit(X_train, y_train)\n",
    "\n",
    "# 결과 예측\n",
    "prediction2 = model.predict(X_test)\n",
    "prediction2\n",
    "\n",
    "from sklearn.metrics import accuracy_score\n",
    "# 정확도 확인\n",
    "print(accuracy_score(prediction2, y_test))"
   ]
  },
  {
   "cell_type": "markdown",
   "metadata": {
    "collapsed": true
   },
   "source": [
    "---"
   ]
  },
  {
   "cell_type": "markdown",
   "metadata": {
    "collapsed": true
   },
   "source": [
    "# 3. Decision Tree"
   ]
  },
  {
   "cell_type": "code",
   "execution_count": 36,
   "metadata": {},
   "outputs": [],
   "source": [
    "X = df.loc[:,['Length','Depth','Kg','L2','LKgRatio']]\n",
    "Y = df['TypeNum']"
   ]
  },
  {
   "cell_type": "code",
   "execution_count": 37,
   "metadata": {},
   "outputs": [],
   "source": [
    "# 데이터 분리: 학습 데이터 + 테스트 데이터\n",
    "from sklearn.model_selection import train_test_split\n",
    "X_train, X_test, y_train, y_test = train_test_split(\n",
    "    X, Y, test_size=0.3 ,random_state=123)"
   ]
  },
  {
   "cell_type": "raw",
   "metadata": {},
   "source": [
    ">>> from sklearn.datasets import load_iris\n",
    ">>> from sklearn.model_selection import cross_val_score\n",
    ">>> from sklearn.tree import DecisionTreeClassifier\n",
    ">>> clf = DecisionTreeClassifier(random_state=0)\n",
    ">>> iris = load_iris()\n",
    ">>> cross_val_score(clf, iris.data, iris.target, cv=10)"
   ]
  },
  {
   "cell_type": "code",
   "execution_count": 38,
   "metadata": {},
   "outputs": [],
   "source": [
    "from sklearn.tree import DecisionTreeClassifier\n",
    "# 모델 생성\n",
    "model = DecisionTreeClassifier()"
   ]
  },
  {
   "cell_type": "code",
   "execution_count": 43,
   "metadata": {},
   "outputs": [
    {
     "data": {
      "text/plain": [
       "DecisionTreeClassifier(class_weight=None, criterion='gini', max_depth=None,\n",
       "            max_features=None, max_leaf_nodes=None,\n",
       "            min_impurity_decrease=0.0, min_impurity_split=None,\n",
       "            min_samples_leaf=1, min_samples_split=2,\n",
       "            min_weight_fraction_leaf=0.0, presort=False, random_state=None,\n",
       "            splitter='best')"
      ]
     },
     "execution_count": 43,
     "metadata": {},
     "output_type": "execute_result"
    }
   ],
   "source": [
    "# 모델 학습\n",
    "model.fit(X_train, y_train)"
   ]
  },
  {
   "cell_type": "code",
   "execution_count": 44,
   "metadata": {
    "scrolled": true
   },
   "outputs": [
    {
     "data": {
      "text/plain": [
       "array([1, 2, 1, 2, 0, 0, 2, 1, 1, 1, 1, 2, 2, 0, 0, 0, 2, 0, 1, 1, 2, 0,\n",
       "       2, 0, 1, 0, 2, 1, 2, 1, 2, 2, 1, 0, 1, 0, 0, 1, 2, 1, 0, 0, 0, 1,\n",
       "       2, 2, 1, 2, 2, 0, 0, 1, 1, 0, 1, 0, 0, 2, 2, 1, 1, 0, 1, 1, 2, 0,\n",
       "       1, 2, 0, 1, 2, 2, 0, 1, 2, 1, 0, 2, 1, 0, 1, 2, 0, 0, 2, 2, 0, 1,\n",
       "       2, 1, 2, 2, 0, 0, 1, 2, 0, 1, 1, 1, 2, 2, 0, 1, 2, 2, 1, 1, 0, 1,\n",
       "       1, 2, 0, 2, 1, 1, 2, 1, 0, 0, 0, 0, 2, 1, 0, 0, 0, 1, 2, 1, 2, 0,\n",
       "       2, 1, 1, 0, 2, 1, 1, 0, 2, 2, 2, 1, 1, 1, 0, 0, 2, 0, 2, 1, 2, 2,\n",
       "       2, 1, 1, 2, 1, 1, 2, 1, 1, 0, 0, 1, 0, 0, 2, 1, 2, 1, 0, 1, 1, 2,\n",
       "       1, 2, 1, 2, 0, 1, 0, 1, 1, 1, 1, 2, 1, 2, 0, 0, 0, 1, 1, 2, 1, 2,\n",
       "       1, 2, 0, 1, 1, 0, 2, 2, 2, 2, 1, 1, 2, 2, 2, 1, 2, 1, 2, 0, 1, 1,\n",
       "       2, 0, 0, 0, 0, 2, 0, 1, 0, 2, 1, 1, 1, 1, 1, 0, 0, 1, 0, 1, 0, 2,\n",
       "       1, 2, 1, 0, 0, 2, 2, 2, 0, 2, 2, 0, 0, 1, 1, 1, 0, 1, 1, 0, 0, 2,\n",
       "       0, 2, 1, 0, 0, 1, 0, 1, 1, 0, 1, 1, 1, 2, 1, 2, 0, 1, 1, 0, 0, 1,\n",
       "       2, 0, 1, 0, 2, 1, 2, 0, 0, 0, 0, 2, 0, 2, 1, 0, 1, 2, 1, 2, 0, 0,\n",
       "       0, 1, 2, 0, 1, 1, 2, 2, 1, 1, 0, 2, 1, 1, 0, 1, 1, 1, 2, 2, 0, 1,\n",
       "       2, 1, 2, 0, 1, 2, 0, 1, 1, 1, 2, 1, 1, 0, 1, 2, 0, 2, 2, 0, 1, 1,\n",
       "       2, 1, 2, 1, 2, 2, 0, 2, 0, 1, 2, 1, 0, 0, 1, 0, 0, 2, 1, 0, 1, 1,\n",
       "       2, 2, 2, 2, 1, 2, 0, 0, 0, 0, 0, 0, 1, 2, 2, 0, 0, 2, 2, 2, 1, 0,\n",
       "       0, 0, 2, 1, 0, 0, 0, 0, 1, 0, 1, 1, 2, 0, 1, 1, 1, 1, 2, 0, 2, 0,\n",
       "       1, 1, 2, 2, 2, 0, 2, 0, 2, 0, 2, 2, 0, 1, 0, 0, 0, 0, 1, 2, 2, 1,\n",
       "       1, 2, 0, 2, 0, 2, 0, 0, 2, 0], dtype=int64)"
      ]
     },
     "execution_count": 44,
     "metadata": {},
     "output_type": "execute_result"
    }
   ],
   "source": [
    "# 결과 예측\n",
    "prediction3 = model.predict(X_test)\n",
    "prediction3"
   ]
  },
  {
   "cell_type": "code",
   "execution_count": 45,
   "metadata": {},
   "outputs": [
    {
     "data": {
      "text/plain": [
       "array([[0., 1., 0.],\n",
       "       [0., 0., 1.],\n",
       "       [0., 1., 0.],\n",
       "       ...,\n",
       "       [1., 0., 0.],\n",
       "       [0., 0., 1.],\n",
       "       [1., 0., 0.]])"
      ]
     },
     "execution_count": 45,
     "metadata": {},
     "output_type": "execute_result"
    }
   ],
   "source": [
    "model.predict_proba(X_test)"
   ]
  },
  {
   "cell_type": "code",
   "execution_count": 46,
   "metadata": {},
   "outputs": [
    {
     "name": "stdout",
     "output_type": "stream",
     "text": [
      "1.0\n"
     ]
    }
   ],
   "source": [
    "from sklearn.metrics import accuracy_score\n",
    "print(accuracy_score(prediction3, y_test))"
   ]
  },
  {
   "cell_type": "markdown",
   "metadata": {
    "collapsed": true
   },
   "source": [
    "---"
   ]
  },
  {
   "cell_type": "markdown",
   "metadata": {
    "collapsed": true
   },
   "source": [
    "# 4. Random Forest"
   ]
  },
  {
   "cell_type": "code",
   "execution_count": 47,
   "metadata": {},
   "outputs": [],
   "source": [
    "from sklearn.ensemble import RandomForestClassifier\n",
    "# 모델 생성\n",
    "model = RandomForestClassifier(n_estimators=340)"
   ]
  },
  {
   "cell_type": "code",
   "execution_count": 55,
   "metadata": {},
   "outputs": [],
   "source": [
    "RandomForestClassifier?"
   ]
  },
  {
   "cell_type": "code",
   "execution_count": 48,
   "metadata": {},
   "outputs": [
    {
     "data": {
      "text/plain": [
       "RandomForestClassifier(bootstrap=True, class_weight=None, criterion='gini',\n",
       "            max_depth=None, max_features='auto', max_leaf_nodes=None,\n",
       "            min_impurity_decrease=0.0, min_impurity_split=None,\n",
       "            min_samples_leaf=1, min_samples_split=2,\n",
       "            min_weight_fraction_leaf=0.0, n_estimators=340, n_jobs=None,\n",
       "            oob_score=False, random_state=None, verbose=0,\n",
       "            warm_start=False)"
      ]
     },
     "execution_count": 48,
     "metadata": {},
     "output_type": "execute_result"
    }
   ],
   "source": [
    "# 모델 학습\n",
    "model.fit(X_train, y_train)"
   ]
  },
  {
   "cell_type": "code",
   "execution_count": 49,
   "metadata": {
    "scrolled": true
   },
   "outputs": [
    {
     "data": {
      "text/plain": [
       "array([1, 2, 1, 2, 0, 0, 2, 1, 1, 1, 1, 2, 2, 0, 0, 0, 2, 0, 1, 1, 2, 0,\n",
       "       2, 0, 1, 0, 2, 1, 2, 1, 2, 2, 1, 0, 1, 0, 0, 1, 2, 1, 0, 0, 0, 1,\n",
       "       2, 2, 1, 2, 2, 0, 0, 1, 1, 0, 1, 0, 0, 2, 2, 1, 1, 0, 1, 1, 2, 0,\n",
       "       1, 2, 0, 1, 2, 2, 0, 1, 2, 1, 0, 2, 1, 0, 1, 2, 0, 0, 2, 2, 0, 1,\n",
       "       2, 1, 2, 2, 0, 0, 1, 2, 0, 1, 1, 1, 2, 2, 0, 1, 2, 2, 1, 1, 0, 1,\n",
       "       1, 2, 0, 2, 1, 1, 2, 1, 0, 0, 0, 0, 2, 1, 0, 0, 0, 1, 2, 1, 2, 0,\n",
       "       2, 1, 1, 0, 2, 1, 1, 0, 2, 2, 2, 1, 1, 1, 0, 0, 2, 0, 2, 1, 2, 2,\n",
       "       2, 1, 1, 2, 1, 1, 2, 1, 1, 0, 0, 1, 0, 0, 2, 1, 2, 1, 0, 1, 1, 2,\n",
       "       1, 2, 1, 2, 0, 1, 0, 1, 1, 1, 1, 2, 1, 2, 0, 0, 0, 1, 1, 2, 1, 2,\n",
       "       1, 2, 0, 1, 1, 0, 2, 2, 2, 2, 1, 1, 2, 2, 2, 1, 2, 1, 2, 0, 1, 1,\n",
       "       2, 0, 0, 0, 0, 2, 0, 1, 0, 2, 1, 1, 1, 1, 1, 0, 0, 1, 0, 1, 0, 2,\n",
       "       1, 2, 1, 0, 0, 2, 2, 2, 0, 2, 2, 0, 0, 1, 1, 1, 0, 1, 1, 0, 0, 2,\n",
       "       0, 2, 1, 0, 0, 1, 0, 1, 1, 0, 1, 1, 1, 2, 1, 2, 0, 1, 1, 0, 0, 1,\n",
       "       2, 0, 1, 0, 2, 1, 2, 0, 0, 0, 0, 2, 0, 2, 1, 0, 1, 2, 1, 2, 0, 0,\n",
       "       0, 1, 2, 0, 1, 1, 2, 2, 1, 1, 0, 2, 1, 1, 0, 1, 1, 1, 2, 2, 0, 1,\n",
       "       2, 1, 2, 0, 1, 2, 0, 1, 1, 1, 2, 1, 1, 0, 1, 2, 0, 2, 2, 0, 1, 1,\n",
       "       2, 1, 2, 1, 2, 2, 0, 2, 0, 1, 2, 1, 0, 0, 1, 0, 0, 1, 1, 0, 1, 1,\n",
       "       2, 2, 2, 2, 1, 2, 0, 0, 0, 0, 0, 0, 1, 2, 2, 0, 0, 2, 2, 2, 1, 0,\n",
       "       0, 0, 2, 1, 0, 0, 0, 0, 1, 0, 1, 1, 2, 0, 1, 1, 1, 1, 2, 0, 2, 0,\n",
       "       1, 1, 2, 2, 2, 0, 2, 0, 2, 0, 2, 2, 0, 1, 0, 0, 0, 0, 1, 2, 2, 1,\n",
       "       1, 2, 0, 2, 0, 2, 0, 0, 2, 0], dtype=int64)"
      ]
     },
     "execution_count": 49,
     "metadata": {},
     "output_type": "execute_result"
    }
   ],
   "source": [
    "# 결과 예측\n",
    "prediction4 = model.predict(X_test)\n",
    "prediction4"
   ]
  },
  {
   "cell_type": "code",
   "execution_count": 50,
   "metadata": {},
   "outputs": [
    {
     "name": "stdout",
     "output_type": "stream",
     "text": [
      "0.9977777777777778\n"
     ]
    }
   ],
   "source": [
    "# 정확도 확인\n",
    "print(accuracy_score(prediction4, y_test))"
   ]
  },
  {
   "cell_type": "markdown",
   "metadata": {},
   "source": [
    "---"
   ]
  },
  {
   "cell_type": "markdown",
   "metadata": {},
   "source": [
    "# 4. KMeans Clustering"
   ]
  },
  {
   "cell_type": "code",
   "execution_count": 3,
   "metadata": {},
   "outputs": [
    {
     "data": {
      "text/html": [
       "<div>\n",
       "<style scoped>\n",
       "    .dataframe tbody tr th:only-of-type {\n",
       "        vertical-align: middle;\n",
       "    }\n",
       "\n",
       "    .dataframe tbody tr th {\n",
       "        vertical-align: top;\n",
       "    }\n",
       "\n",
       "    .dataframe thead th {\n",
       "        text-align: right;\n",
       "    }\n",
       "</style>\n",
       "<table border=\"1\" class=\"dataframe\">\n",
       "  <thead>\n",
       "    <tr style=\"text-align: right;\">\n",
       "      <th></th>\n",
       "      <th>Sepal.Length</th>\n",
       "      <th>Sepal.Width</th>\n",
       "      <th>Petal.Length</th>\n",
       "      <th>Petal.Width</th>\n",
       "      <th>Species</th>\n",
       "    </tr>\n",
       "  </thead>\n",
       "  <tbody>\n",
       "    <tr>\n",
       "      <th>0</th>\n",
       "      <td>5.1</td>\n",
       "      <td>3.5</td>\n",
       "      <td>1.4</td>\n",
       "      <td>0.2</td>\n",
       "      <td>setosa</td>\n",
       "    </tr>\n",
       "    <tr>\n",
       "      <th>1</th>\n",
       "      <td>4.9</td>\n",
       "      <td>3.0</td>\n",
       "      <td>1.4</td>\n",
       "      <td>0.2</td>\n",
       "      <td>setosa</td>\n",
       "    </tr>\n",
       "    <tr>\n",
       "      <th>2</th>\n",
       "      <td>4.7</td>\n",
       "      <td>3.2</td>\n",
       "      <td>1.3</td>\n",
       "      <td>0.2</td>\n",
       "      <td>setosa</td>\n",
       "    </tr>\n",
       "    <tr>\n",
       "      <th>3</th>\n",
       "      <td>4.6</td>\n",
       "      <td>3.1</td>\n",
       "      <td>1.5</td>\n",
       "      <td>0.2</td>\n",
       "      <td>setosa</td>\n",
       "    </tr>\n",
       "    <tr>\n",
       "      <th>4</th>\n",
       "      <td>5.0</td>\n",
       "      <td>3.6</td>\n",
       "      <td>1.4</td>\n",
       "      <td>0.2</td>\n",
       "      <td>setosa</td>\n",
       "    </tr>\n",
       "  </tbody>\n",
       "</table>\n",
       "</div>"
      ],
      "text/plain": [
       "   Sepal.Length  Sepal.Width  Petal.Length  Petal.Width Species\n",
       "0           5.1          3.5           1.4          0.2  setosa\n",
       "1           4.9          3.0           1.4          0.2  setosa\n",
       "2           4.7          3.2           1.3          0.2  setosa\n",
       "3           4.6          3.1           1.5          0.2  setosa\n",
       "4           5.0          3.6           1.4          0.2  setosa"
      ]
     },
     "execution_count": 3,
     "metadata": {},
     "output_type": "execute_result"
    }
   ],
   "source": [
    "df = pd.read_csv(\"data/iris.csv\")\n",
    "df.head()"
   ]
  },
  {
   "cell_type": "code",
   "execution_count": 4,
   "metadata": {},
   "outputs": [
    {
     "data": {
      "text/plain": [
       "setosa        50\n",
       "versicolor    50\n",
       "virginica     50\n",
       "Name: Species, dtype: int64"
      ]
     },
     "execution_count": 4,
     "metadata": {},
     "output_type": "execute_result"
    }
   ],
   "source": [
    "df['Species'].value_counts()"
   ]
  },
  {
   "cell_type": "raw",
   "metadata": {},
   "source": [
    ">>> from sklearn.cluster import KMeans\n",
    ">>> import numpy as np\n",
    ">>> X = np.array([[1, 2], [1, 4], [1, 0],\n",
    "...               [10, 2], [10, 4], [10, 0]])\n",
    ">>> kmeans = KMeans(n_clusters=2, random_state=0).fit(X)\n",
    ">>> kmeans.labels_\n",
    "array([1, 1, 1, 0, 0, 0], dtype=int32)\n",
    ">>> kmeans.predict([[0, 0], [12, 3]])\n",
    "array([1, 0], dtype=int32)\n",
    ">>> kmeans.cluster_centers_\n",
    "array([[10.,  2.],\n",
    "       [ 1.,  2.]])"
   ]
  },
  {
   "cell_type": "code",
   "execution_count": 5,
   "metadata": {},
   "outputs": [],
   "source": [
    "X = df.iloc[:,0:4]"
   ]
  },
  {
   "cell_type": "code",
   "execution_count": 6,
   "metadata": {},
   "outputs": [
    {
     "data": {
      "text/plain": [
       "array([1, 1, 1, 1, 1, 1, 1, 1, 1, 1, 1, 1, 1, 1, 1, 1, 1, 1, 1, 1, 1, 1,\n",
       "       1, 1, 1, 1, 1, 1, 1, 1, 1, 1, 1, 1, 1, 1, 1, 1, 1, 1, 1, 1, 1, 1,\n",
       "       1, 1, 1, 1, 1, 1, 0, 0, 2, 0, 0, 0, 0, 0, 0, 0, 0, 0, 0, 0, 0, 0,\n",
       "       0, 0, 0, 0, 0, 0, 0, 0, 0, 0, 0, 2, 0, 0, 0, 0, 0, 0, 0, 0, 0, 0,\n",
       "       0, 0, 0, 0, 0, 0, 0, 0, 0, 0, 0, 0, 2, 0, 2, 2, 2, 2, 0, 2, 2, 2,\n",
       "       2, 2, 2, 0, 0, 2, 2, 2, 2, 0, 2, 0, 2, 0, 2, 2, 0, 0, 2, 2, 2, 2,\n",
       "       2, 0, 2, 2, 2, 2, 0, 2, 2, 2, 0, 2, 2, 2, 0, 2, 2, 0])"
      ]
     },
     "execution_count": 6,
     "metadata": {},
     "output_type": "execute_result"
    }
   ],
   "source": [
    "from sklearn.cluster import KMeans\n",
    "kmeans = KMeans(n_clusters=3, random_state=0).fit(X)\n",
    "kmeans.labels_"
   ]
  },
  {
   "cell_type": "code",
   "execution_count": 8,
   "metadata": {
    "scrolled": true
   },
   "outputs": [
    {
     "data": {
      "text/plain": [
       "['__class__',\n",
       " '__delattr__',\n",
       " '__dict__',\n",
       " '__dir__',\n",
       " '__doc__',\n",
       " '__eq__',\n",
       " '__format__',\n",
       " '__ge__',\n",
       " '__getattribute__',\n",
       " '__getstate__',\n",
       " '__gt__',\n",
       " '__hash__',\n",
       " '__init__',\n",
       " '__init_subclass__',\n",
       " '__le__',\n",
       " '__lt__',\n",
       " '__module__',\n",
       " '__ne__',\n",
       " '__new__',\n",
       " '__reduce__',\n",
       " '__reduce_ex__',\n",
       " '__repr__',\n",
       " '__setattr__',\n",
       " '__setstate__',\n",
       " '__sizeof__',\n",
       " '__str__',\n",
       " '__subclasshook__',\n",
       " '__weakref__',\n",
       " '_check_fit_data',\n",
       " '_check_test_data',\n",
       " '_estimator_type',\n",
       " '_get_param_names',\n",
       " '_transform',\n",
       " 'algorithm',\n",
       " 'cluster_centers_',\n",
       " 'copy_x',\n",
       " 'fit',\n",
       " 'fit_predict',\n",
       " 'fit_transform',\n",
       " 'get_params',\n",
       " 'inertia_',\n",
       " 'init',\n",
       " 'labels_',\n",
       " 'max_iter',\n",
       " 'n_clusters',\n",
       " 'n_init',\n",
       " 'n_iter_',\n",
       " 'n_jobs',\n",
       " 'precompute_distances',\n",
       " 'predict',\n",
       " 'random_state',\n",
       " 'score',\n",
       " 'set_params',\n",
       " 'tol',\n",
       " 'transform',\n",
       " 'verbose']"
      ]
     },
     "execution_count": 8,
     "metadata": {},
     "output_type": "execute_result"
    }
   ],
   "source": [
    "dir(kmeans)"
   ]
  },
  {
   "cell_type": "code",
   "execution_count": 59,
   "metadata": {},
   "outputs": [
    {
     "data": {
      "text/plain": [
       "array([1, 1, 1, 1, 1, 1, 1, 1, 1, 1, 1, 1, 1, 1, 1, 1, 1, 1, 1, 1, 1, 1,\n",
       "       1, 1, 1, 1, 1, 1, 1, 1, 1, 1, 1, 1, 1, 1, 1, 1, 1, 1, 1, 1, 1, 1,\n",
       "       1, 1, 1, 1, 1, 1, 0, 0, 2, 0, 0, 0, 0, 0, 0, 0, 0, 0, 0, 0, 0, 0,\n",
       "       0, 0, 0, 0, 0, 0, 0, 0, 0, 0, 0, 2, 0, 0, 0, 0, 0, 0, 0, 0, 0, 0,\n",
       "       0, 0, 0, 0, 0, 0, 0, 0, 0, 0, 0, 0, 2, 0, 2, 2, 2, 2, 0, 2, 2, 2,\n",
       "       2, 2, 2, 0, 0, 2, 2, 2, 2, 0, 2, 0, 2, 0, 2, 2, 0, 0, 2, 2, 2, 2,\n",
       "       2, 0, 2, 2, 2, 2, 0, 2, 2, 2, 0, 2, 2, 2, 0, 2, 2, 0])"
      ]
     },
     "execution_count": 59,
     "metadata": {},
     "output_type": "execute_result"
    }
   ],
   "source": [
    "kmeans.predict(X)"
   ]
  },
  {
   "cell_type": "code",
   "execution_count": 86,
   "metadata": {
    "scrolled": true
   },
   "outputs": [
    {
     "data": {
      "text/plain": [
       "array([[5.9016129 , 2.7483871 , 4.39354839, 1.43387097],\n",
       "       [5.006     , 3.428     , 1.462     , 0.246     ],\n",
       "       [6.85      , 3.07368421, 5.74210526, 2.07105263]])"
      ]
     },
     "execution_count": 86,
     "metadata": {},
     "output_type": "execute_result"
    }
   ],
   "source": [
    "kmeans.cluster_centers_"
   ]
  },
  {
   "cell_type": "code",
   "execution_count": 12,
   "metadata": {},
   "outputs": [],
   "source": []
  },
  {
   "cell_type": "markdown",
   "metadata": {},
   "source": [
    "# 5. Nearest Neighbors"
   ]
  },
  {
   "cell_type": "raw",
   "metadata": {},
   "source": [
    ">>> from sklearn.neighbors import NearestNeighbors\n",
    ">>> import numpy as np\n",
    ">>> X = np.array([[-1, -1], [-2, -1], [-3, -2], [1, 1], [2, 1], [3, 2]])\n",
    ">>> neigh = NearestNeighbors(2, 0.4)\n",
    ">>> neigh.fit(samples)  \n",
    "NearestNeighbors(...)\n",
    ">>> neigh.kneighbors([[0, 0, 1.3]], 2, return_distance=False)\n",
    "... \n",
    "array([[2, 0]]...)"
   ]
  },
  {
   "cell_type": "code",
   "execution_count": 63,
   "metadata": {},
   "outputs": [],
   "source": [
    "from sklearn.neighbors import NearestNeighbors\n",
    "neigh = NearestNeighbors(n_neighbors=2, algorithm='kd_tree').fit(X)"
   ]
  },
  {
   "cell_type": "code",
   "execution_count": 78,
   "metadata": {},
   "outputs": [
    {
     "data": {
      "text/html": [
       "<div>\n",
       "<style scoped>\n",
       "    .dataframe tbody tr th:only-of-type {\n",
       "        vertical-align: middle;\n",
       "    }\n",
       "\n",
       "    .dataframe tbody tr th {\n",
       "        vertical-align: top;\n",
       "    }\n",
       "\n",
       "    .dataframe thead th {\n",
       "        text-align: right;\n",
       "    }\n",
       "</style>\n",
       "<table border=\"1\" class=\"dataframe\">\n",
       "  <thead>\n",
       "    <tr style=\"text-align: right;\">\n",
       "      <th></th>\n",
       "      <th>Sepal.Length</th>\n",
       "      <th>Sepal.Width</th>\n",
       "      <th>Petal.Length</th>\n",
       "      <th>Petal.Width</th>\n",
       "    </tr>\n",
       "  </thead>\n",
       "  <tbody>\n",
       "    <tr>\n",
       "      <th>0</th>\n",
       "      <td>5.1</td>\n",
       "      <td>3.5</td>\n",
       "      <td>1.4</td>\n",
       "      <td>0.2</td>\n",
       "    </tr>\n",
       "    <tr>\n",
       "      <th>1</th>\n",
       "      <td>4.9</td>\n",
       "      <td>3.0</td>\n",
       "      <td>1.4</td>\n",
       "      <td>0.2</td>\n",
       "    </tr>\n",
       "    <tr>\n",
       "      <th>2</th>\n",
       "      <td>4.7</td>\n",
       "      <td>3.2</td>\n",
       "      <td>1.3</td>\n",
       "      <td>0.2</td>\n",
       "    </tr>\n",
       "    <tr>\n",
       "      <th>3</th>\n",
       "      <td>4.6</td>\n",
       "      <td>3.1</td>\n",
       "      <td>1.5</td>\n",
       "      <td>0.2</td>\n",
       "    </tr>\n",
       "    <tr>\n",
       "      <th>4</th>\n",
       "      <td>5.0</td>\n",
       "      <td>3.6</td>\n",
       "      <td>1.4</td>\n",
       "      <td>0.2</td>\n",
       "    </tr>\n",
       "  </tbody>\n",
       "</table>\n",
       "</div>"
      ],
      "text/plain": [
       "   Sepal.Length  Sepal.Width  Petal.Length  Petal.Width\n",
       "0           5.1          3.5           1.4          0.2\n",
       "1           4.9          3.0           1.4          0.2\n",
       "2           4.7          3.2           1.3          0.2\n",
       "3           4.6          3.1           1.5          0.2\n",
       "4           5.0          3.6           1.4          0.2"
      ]
     },
     "execution_count": 78,
     "metadata": {},
     "output_type": "execute_result"
    }
   ],
   "source": [
    "X.head()"
   ]
  },
  {
   "cell_type": "code",
   "execution_count": 81,
   "metadata": {},
   "outputs": [
    {
     "data": {
      "text/plain": [
       "Sepal.Length    5.1\n",
       "Sepal.Width     3.4\n",
       "Petal.Length    1.5\n",
       "Petal.Width     0.2\n",
       "Name: 39, dtype: float64"
      ]
     },
     "execution_count": 81,
     "metadata": {},
     "output_type": "execute_result"
    }
   ],
   "source": [
    "X.iloc[39]"
   ]
  },
  {
   "cell_type": "code",
   "execution_count": 112,
   "metadata": {},
   "outputs": [],
   "source": [
    "A=neigh.kneighbors(X, 5, return_distance=True)"
   ]
  },
  {
   "cell_type": "code",
   "execution_count": 98,
   "metadata": {},
   "outputs": [
    {
     "data": {
      "text/plain": [
       "array([100, 136, 144, 104, 143], dtype=int64)"
      ]
     },
     "execution_count": 98,
     "metadata": {},
     "output_type": "execute_result"
    }
   ],
   "source": [
    "A[100]"
   ]
  },
  {
   "cell_type": "code",
   "execution_count": 115,
   "metadata": {
    "scrolled": false
   },
   "outputs": [
    {
     "data": {
      "text/plain": [
       "array([0.        , 0.42426407, 0.5       , 0.50990195, 0.55677644])"
      ]
     },
     "execution_count": 115,
     "metadata": {},
     "output_type": "execute_result"
    }
   ],
   "source": [
    "A[0][100]"
   ]
  },
  {
   "cell_type": "code",
   "execution_count": 106,
   "metadata": {},
   "outputs": [],
   "source": []
  },
  {
   "cell_type": "code",
   "execution_count": 111,
   "metadata": {},
   "outputs": [
    {
     "data": {
      "text/plain": [
       "array([[0.        , 0.1       , 0.14142136, 0.14142136, 0.14142136],\n",
       "       [0.        , 0.14142136, 0.14142136, 0.14142136, 0.17320508],\n",
       "       [0.        , 0.14142136, 0.24494897, 0.26457513, 0.26457513],\n",
       "       [0.        , 0.14142136, 0.17320508, 0.2236068 , 0.24494897],\n",
       "       [0.        , 0.14142136, 0.14142136, 0.17320508, 0.17320508],\n",
       "       [0.        , 0.33166248, 0.34641016, 0.36055513, 0.37416574],\n",
       "       [0.        , 0.2236068 , 0.26457513, 0.3       , 0.31622777],\n",
       "       [0.        , 0.1       , 0.14142136, 0.17320508, 0.2       ],\n",
       "       [0.        , 0.14142136, 0.3       , 0.31622777, 0.34641016],\n",
       "       [0.        , 0.1       , 0.17320508, 0.17320508, 0.17320508],\n",
       "       [0.        , 0.1       , 0.28284271, 0.3       , 0.33166248],\n",
       "       [0.        , 0.2236068 , 0.2236068 , 0.28284271, 0.3       ],\n",
       "       [0.        , 0.14142136, 0.17320508, 0.2       , 0.2       ],\n",
       "       [0.        , 0.24494897, 0.31622777, 0.34641016, 0.47958315],\n",
       "       [0.        , 0.41231056, 0.46904158, 0.54772256, 0.55677644],\n",
       "       [0.        , 0.36055513, 0.54772256, 0.6164414 , 0.6164414 ],\n",
       "       [0.        , 0.34641016, 0.36055513, 0.38729833, 0.38729833],\n",
       "       [0.        , 0.1       , 0.14142136, 0.17320508, 0.17320508],\n",
       "       [0.        , 0.33166248, 0.38729833, 0.46904158, 0.50990195],\n",
       "       [0.        , 0.14142136, 0.14142136, 0.24494897, 0.26457513],\n",
       "       [0.        , 0.28284271, 0.3       , 0.36055513, 0.36055513],\n",
       "       [0.        , 0.14142136, 0.24494897, 0.24494897, 0.26457513],\n",
       "       [0.        , 0.45825757, 0.50990195, 0.50990195, 0.51961524],\n",
       "       [0.        , 0.2       , 0.26457513, 0.37416574, 0.38729833],\n",
       "       [0.        , 0.3       , 0.37416574, 0.41231056, 0.42426407],\n",
       "       [0.        , 0.17320508, 0.2       , 0.2236068 , 0.2236068 ],\n",
       "       [0.        , 0.2       , 0.2236068 , 0.2236068 , 0.24494897],\n",
       "       [0.        , 0.14142136, 0.14142136, 0.14142136, 0.17320508],\n",
       "       [0.        , 0.14142136, 0.14142136, 0.14142136, 0.17320508],\n",
       "       [0.        , 0.14142136, 0.17320508, 0.2236068 , 0.2236068 ],\n",
       "       [0.        , 0.14142136, 0.14142136, 0.17320508, 0.2236068 ],\n",
       "       [0.        , 0.28284271, 0.3       , 0.3       , 0.31622777],\n",
       "       [0.        , 0.34641016, 0.34641016, 0.37416574, 0.42426407],\n",
       "       [0.        , 0.34641016, 0.36055513, 0.38729833, 0.41231056],\n",
       "       [0.        , 0.1       , 0.14142136, 0.14142136, 0.17320508],\n",
       "       [0.        , 0.2236068 , 0.3       , 0.31622777, 0.33166248],\n",
       "       [0.        , 0.3       , 0.31622777, 0.33166248, 0.34641016],\n",
       "       [0.        , 0.14142136, 0.24494897, 0.26457513, 0.26457513],\n",
       "       [0.        , 0.14142136, 0.2       , 0.24494897, 0.3       ],\n",
       "       [0.        , 0.1       , 0.14142136, 0.14142136, 0.14142136],\n",
       "       [0.        , 0.14142136, 0.17320508, 0.17320508, 0.24494897],\n",
       "       [0.        , 0.6244998 , 0.71414284, 0.76811457, 0.78102497],\n",
       "       [0.        , 0.2       , 0.2236068 , 0.3       , 0.3       ],\n",
       "       [0.        , 0.2236068 , 0.26457513, 0.31622777, 0.37416574],\n",
       "       [0.        , 0.36055513, 0.37416574, 0.41231056, 0.41231056],\n",
       "       [0.        , 0.14142136, 0.2       , 0.2       , 0.24494897],\n",
       "       [0.        , 0.14142136, 0.24494897, 0.24494897, 0.3       ],\n",
       "       [0.        , 0.14142136, 0.14142136, 0.2236068 , 0.2236068 ],\n",
       "       [0.        , 0.1       , 0.2236068 , 0.24494897, 0.24494897],\n",
       "       [0.        , 0.14142136, 0.17320508, 0.2236068 , 0.2236068 ],\n",
       "       [0.        , 0.26457513, 0.33166248, 0.43588989, 0.45825757],\n",
       "       [0.        , 0.26457513, 0.31622777, 0.34641016, 0.37416574],\n",
       "       [0.        , 0.26457513, 0.28284271, 0.31622777, 0.34641016],\n",
       "       [0.        , 0.2       , 0.3       , 0.31622777, 0.43588989],\n",
       "       [0.        , 0.24494897, 0.31622777, 0.37416574, 0.37416574],\n",
       "       [0.        , 0.3       , 0.31622777, 0.31622777, 0.33166248],\n",
       "       [0.        , 0.26457513, 0.37416574, 0.42426407, 0.45825757],\n",
       "       [0.        , 0.14142136, 0.38729833, 0.45825757, 0.72111026],\n",
       "       [0.        , 0.24494897, 0.24494897, 0.31622777, 0.31622777],\n",
       "       [0.        , 0.38729833, 0.50990195, 0.51961524, 0.52915026],\n",
       "       [0.        , 0.36055513, 0.45825757, 0.67082039, 0.71414284],\n",
       "       [0.        , 0.3       , 0.33166248, 0.36055513, 0.36055513],\n",
       "       [0.        , 0.48989795, 0.51961524, 0.54772256, 0.58309519],\n",
       "       [0.        , 0.14142136, 0.2236068 , 0.24494897, 0.42426407],\n",
       "       [0.        , 0.42426407, 0.4472136 , 0.50990195, 0.51961524],\n",
       "       [0.        , 0.14142136, 0.31622777, 0.31622777, 0.34641016],\n",
       "       [0.        , 0.2       , 0.3       , 0.38729833, 0.41231056],\n",
       "       [0.        , 0.24494897, 0.28284271, 0.33166248, 0.36055513],\n",
       "       [0.        , 0.26457513, 0.50990195, 0.53851648, 0.678233  ],\n",
       "       [0.        , 0.17320508, 0.24494897, 0.26457513, 0.26457513],\n",
       "       [0.        , 0.2236068 , 0.3       , 0.36055513, 0.42426407],\n",
       "       [0.        , 0.33166248, 0.34641016, 0.37416574, 0.4       ],\n",
       "       [0.        , 0.36055513, 0.36055513, 0.41231056, 0.42426407],\n",
       "       [0.        , 0.2236068 , 0.3       , 0.38729833, 0.43588989],\n",
       "       [0.        , 0.2       , 0.26457513, 0.36055513, 0.38729833],\n",
       "       [0.        , 0.14142136, 0.24494897, 0.26457513, 0.31622777],\n",
       "       [0.        , 0.31622777, 0.34641016, 0.34641016, 0.37416574],\n",
       "       [0.        , 0.31622777, 0.37416574, 0.41231056, 0.42426407],\n",
       "       [0.        , 0.2       , 0.24494897, 0.33166248, 0.34641016],\n",
       "       [0.        , 0.34641016, 0.42426407, 0.43588989, 0.4472136 ],\n",
       "       [0.        , 0.14142136, 0.17320508, 0.3       , 0.3       ],\n",
       "       [0.        , 0.14142136, 0.26457513, 0.34641016, 0.43588989],\n",
       "       [0.        , 0.14142136, 0.26457513, 0.28284271, 0.3       ],\n",
       "       [0.        , 0.33166248, 0.36055513, 0.36055513, 0.37416574],\n",
       "       [0.        , 0.2       , 0.41231056, 0.47958315, 0.48989795],\n",
       "       [0.        , 0.37416574, 0.42426407, 0.45825757, 0.46904158],\n",
       "       [0.        , 0.28284271, 0.31622777, 0.31622777, 0.33166248],\n",
       "       [0.        , 0.26457513, 0.57445626, 0.59160798, 0.60827625],\n",
       "       [0.        , 0.17320508, 0.17320508, 0.2236068 , 0.31622777],\n",
       "       [0.        , 0.2       , 0.24494897, 0.3       , 0.3       ],\n",
       "       [0.        , 0.26457513, 0.31622777, 0.42426407, 0.42426407],\n",
       "       [0.        , 0.14142136, 0.2       , 0.3       , 0.34641016],\n",
       "       [0.        , 0.14142136, 0.24494897, 0.26457513, 0.26457513],\n",
       "       [0.        , 0.14142136, 0.36055513, 0.38729833, 0.64807407],\n",
       "       [0.        , 0.17320508, 0.2236068 , 0.26457513, 0.3       ],\n",
       "       [0.        , 0.14142136, 0.17320508, 0.24494897, 0.33166248],\n",
       "       [0.        , 0.14142136, 0.14142136, 0.17320508, 0.2236068 ],\n",
       "       [0.        , 0.2       , 0.33166248, 0.34641016, 0.34641016],\n",
       "       [0.        , 0.38729833, 0.38729833, 0.72111026, 0.79372539],\n",
       "       [0.        , 0.14142136, 0.17320508, 0.2236068 , 0.24494897],\n",
       "       [0.        , 0.42426407, 0.5       , 0.50990195, 0.55677644],\n",
       "       [0.        , 0.        , 0.26457513, 0.31622777, 0.33166248],\n",
       "       [0.        , 0.38729833, 0.4       , 0.41231056, 0.45825757],\n",
       "       [0.        , 0.24494897, 0.24494897, 0.33166248, 0.38729833],\n",
       "       [0.        , 0.3       , 0.31622777, 0.36055513, 0.38729833],\n",
       "       [0.        , 0.26457513, 0.52915026, 0.54772256, 0.54772256],\n",
       "       [0.        , 0.73484692, 0.76157731, 0.79372539, 0.87749644],\n",
       "       [0.        , 0.26457513, 0.43588989, 0.52915026, 0.54772256],\n",
       "       [0.        , 0.55677644, 0.6       , 0.6164414 , 0.6164414 ],\n",
       "       [0.        , 0.63245553, 0.67082039, 0.70710678, 0.75498344],\n",
       "       [0.        , 0.2236068 , 0.37416574, 0.42426407, 0.42426407],\n",
       "       [0.        , 0.34641016, 0.37416574, 0.37416574, 0.38729833],\n",
       "       [0.        , 0.17320508, 0.34641016, 0.36055513, 0.37416574],\n",
       "       [0.        , 0.26457513, 0.26457513, 0.33166248, 0.51961524],\n",
       "       [0.        , 0.48989795, 0.50990195, 0.50990195, 0.51961524],\n",
       "       [0.        , 0.3       , 0.37416574, 0.37416574, 0.38729833],\n",
       "       [0.        , 0.14142136, 0.24494897, 0.36055513, 0.38729833],\n",
       "       [0.        , 0.41231056, 0.81853528, 0.86023253, 1.00498756],\n",
       "       [0.        , 0.41231056, 0.54772256, 0.89442719, 0.92736185],\n",
       "       [0.        , 0.43588989, 0.51961524, 0.53851648, 0.58309519],\n",
       "       [0.        , 0.2236068 , 0.26457513, 0.3       , 0.3       ],\n",
       "       [0.        , 0.31622777, 0.31622777, 0.33166248, 0.45825757],\n",
       "       [0.        , 0.26457513, 0.41231056, 0.60827625, 0.678233  ],\n",
       "       [0.        , 0.17320508, 0.24494897, 0.36055513, 0.36055513],\n",
       "       [0.        , 0.3       , 0.31622777, 0.37416574, 0.37416574],\n",
       "       [0.        , 0.34641016, 0.38729833, 0.43588989, 0.46904158],\n",
       "       [0.        , 0.17320508, 0.24494897, 0.28284271, 0.38729833],\n",
       "       [0.        , 0.14142136, 0.24494897, 0.28284271, 0.3       ],\n",
       "       [0.        , 0.1       , 0.31622777, 0.33166248, 0.37416574],\n",
       "       [0.        , 0.34641016, 0.50990195, 0.51961524, 0.55677644],\n",
       "       [0.        , 0.26457513, 0.45825757, 0.46904158, 0.50990195],\n",
       "       [0.        , 0.41231056, 0.88317609, 0.92736185, 0.93273791],\n",
       "       [0.        , 0.1       , 0.3       , 0.42426407, 0.43588989],\n",
       "       [0.        , 0.33166248, 0.36055513, 0.37416574, 0.43588989],\n",
       "       [0.        , 0.53851648, 0.55677644, 0.58309519, 0.66332496],\n",
       "       [0.        , 0.53851648, 0.54772256, 0.66332496, 0.678233  ],\n",
       "       [0.        , 0.24494897, 0.38729833, 0.42426407, 0.43588989],\n",
       "       [0.        , 0.14142136, 0.24494897, 0.38729833, 0.43588989],\n",
       "       [0.        , 0.14142136, 0.2236068 , 0.28284271, 0.31622777],\n",
       "       [0.        , 0.17320508, 0.36055513, 0.36055513, 0.37416574],\n",
       "       [0.        , 0.24494897, 0.26457513, 0.34641016, 0.34641016],\n",
       "       [0.        , 0.24494897, 0.36055513, 0.46904158, 0.50990195],\n",
       "       [0.        , 0.        , 0.26457513, 0.31622777, 0.33166248],\n",
       "       [0.        , 0.2236068 , 0.31622777, 0.31622777, 0.34641016],\n",
       "       [0.        , 0.24494897, 0.3       , 0.31622777, 0.4       ],\n",
       "       [0.        , 0.24494897, 0.36055513, 0.36055513, 0.37416574],\n",
       "       [0.        , 0.24494897, 0.37416574, 0.38729833, 0.41231056],\n",
       "       [0.        , 0.2236068 , 0.34641016, 0.36055513, 0.36055513],\n",
       "       [0.        , 0.24494897, 0.3       , 0.55677644, 0.6164414 ],\n",
       "       [0.        , 0.28284271, 0.31622777, 0.33166248, 0.33166248]])"
      ]
     },
     "execution_count": 111,
     "metadata": {},
     "output_type": "execute_result"
    }
   ],
   "source": []
  },
  {
   "cell_type": "code",
   "execution_count": 110,
   "metadata": {},
   "outputs": [
    {
     "data": {
      "text/plain": [
       "(array([[0.        , 0.1       , 0.14142136, 0.14142136, 0.14142136],\n",
       "        [0.        , 0.14142136, 0.14142136, 0.14142136, 0.17320508],\n",
       "        [0.        , 0.14142136, 0.24494897, 0.26457513, 0.26457513],\n",
       "        [0.        , 0.14142136, 0.17320508, 0.2236068 , 0.24494897],\n",
       "        [0.        , 0.14142136, 0.14142136, 0.17320508, 0.17320508],\n",
       "        [0.        , 0.33166248, 0.34641016, 0.36055513, 0.37416574],\n",
       "        [0.        , 0.2236068 , 0.26457513, 0.3       , 0.31622777],\n",
       "        [0.        , 0.1       , 0.14142136, 0.17320508, 0.2       ],\n",
       "        [0.        , 0.14142136, 0.3       , 0.31622777, 0.34641016],\n",
       "        [0.        , 0.1       , 0.17320508, 0.17320508, 0.17320508],\n",
       "        [0.        , 0.1       , 0.28284271, 0.3       , 0.33166248],\n",
       "        [0.        , 0.2236068 , 0.2236068 , 0.28284271, 0.3       ],\n",
       "        [0.        , 0.14142136, 0.17320508, 0.2       , 0.2       ],\n",
       "        [0.        , 0.24494897, 0.31622777, 0.34641016, 0.47958315],\n",
       "        [0.        , 0.41231056, 0.46904158, 0.54772256, 0.55677644],\n",
       "        [0.        , 0.36055513, 0.54772256, 0.6164414 , 0.6164414 ],\n",
       "        [0.        , 0.34641016, 0.36055513, 0.38729833, 0.38729833],\n",
       "        [0.        , 0.1       , 0.14142136, 0.17320508, 0.17320508],\n",
       "        [0.        , 0.33166248, 0.38729833, 0.46904158, 0.50990195],\n",
       "        [0.        , 0.14142136, 0.14142136, 0.24494897, 0.26457513],\n",
       "        [0.        , 0.28284271, 0.3       , 0.36055513, 0.36055513],\n",
       "        [0.        , 0.14142136, 0.24494897, 0.24494897, 0.26457513],\n",
       "        [0.        , 0.45825757, 0.50990195, 0.50990195, 0.51961524],\n",
       "        [0.        , 0.2       , 0.26457513, 0.37416574, 0.38729833],\n",
       "        [0.        , 0.3       , 0.37416574, 0.41231056, 0.42426407],\n",
       "        [0.        , 0.17320508, 0.2       , 0.2236068 , 0.2236068 ],\n",
       "        [0.        , 0.2       , 0.2236068 , 0.2236068 , 0.24494897],\n",
       "        [0.        , 0.14142136, 0.14142136, 0.14142136, 0.17320508],\n",
       "        [0.        , 0.14142136, 0.14142136, 0.14142136, 0.17320508],\n",
       "        [0.        , 0.14142136, 0.17320508, 0.2236068 , 0.2236068 ],\n",
       "        [0.        , 0.14142136, 0.14142136, 0.17320508, 0.2236068 ],\n",
       "        [0.        , 0.28284271, 0.3       , 0.3       , 0.31622777],\n",
       "        [0.        , 0.34641016, 0.34641016, 0.37416574, 0.42426407],\n",
       "        [0.        , 0.34641016, 0.36055513, 0.38729833, 0.41231056],\n",
       "        [0.        , 0.1       , 0.14142136, 0.14142136, 0.17320508],\n",
       "        [0.        , 0.2236068 , 0.3       , 0.31622777, 0.33166248],\n",
       "        [0.        , 0.3       , 0.31622777, 0.33166248, 0.34641016],\n",
       "        [0.        , 0.14142136, 0.24494897, 0.26457513, 0.26457513],\n",
       "        [0.        , 0.14142136, 0.2       , 0.24494897, 0.3       ],\n",
       "        [0.        , 0.1       , 0.14142136, 0.14142136, 0.14142136],\n",
       "        [0.        , 0.14142136, 0.17320508, 0.17320508, 0.24494897],\n",
       "        [0.        , 0.6244998 , 0.71414284, 0.76811457, 0.78102497],\n",
       "        [0.        , 0.2       , 0.2236068 , 0.3       , 0.3       ],\n",
       "        [0.        , 0.2236068 , 0.26457513, 0.31622777, 0.37416574],\n",
       "        [0.        , 0.36055513, 0.37416574, 0.41231056, 0.41231056],\n",
       "        [0.        , 0.14142136, 0.2       , 0.2       , 0.24494897],\n",
       "        [0.        , 0.14142136, 0.24494897, 0.24494897, 0.3       ],\n",
       "        [0.        , 0.14142136, 0.14142136, 0.2236068 , 0.2236068 ],\n",
       "        [0.        , 0.1       , 0.2236068 , 0.24494897, 0.24494897],\n",
       "        [0.        , 0.14142136, 0.17320508, 0.2236068 , 0.2236068 ],\n",
       "        [0.        , 0.26457513, 0.33166248, 0.43588989, 0.45825757],\n",
       "        [0.        , 0.26457513, 0.31622777, 0.34641016, 0.37416574],\n",
       "        [0.        , 0.26457513, 0.28284271, 0.31622777, 0.34641016],\n",
       "        [0.        , 0.2       , 0.3       , 0.31622777, 0.43588989],\n",
       "        [0.        , 0.24494897, 0.31622777, 0.37416574, 0.37416574],\n",
       "        [0.        , 0.3       , 0.31622777, 0.31622777, 0.33166248],\n",
       "        [0.        , 0.26457513, 0.37416574, 0.42426407, 0.45825757],\n",
       "        [0.        , 0.14142136, 0.38729833, 0.45825757, 0.72111026],\n",
       "        [0.        , 0.24494897, 0.24494897, 0.31622777, 0.31622777],\n",
       "        [0.        , 0.38729833, 0.50990195, 0.51961524, 0.52915026],\n",
       "        [0.        , 0.36055513, 0.45825757, 0.67082039, 0.71414284],\n",
       "        [0.        , 0.3       , 0.33166248, 0.36055513, 0.36055513],\n",
       "        [0.        , 0.48989795, 0.51961524, 0.54772256, 0.58309519],\n",
       "        [0.        , 0.14142136, 0.2236068 , 0.24494897, 0.42426407],\n",
       "        [0.        , 0.42426407, 0.4472136 , 0.50990195, 0.51961524],\n",
       "        [0.        , 0.14142136, 0.31622777, 0.31622777, 0.34641016],\n",
       "        [0.        , 0.2       , 0.3       , 0.38729833, 0.41231056],\n",
       "        [0.        , 0.24494897, 0.28284271, 0.33166248, 0.36055513],\n",
       "        [0.        , 0.26457513, 0.50990195, 0.53851648, 0.678233  ],\n",
       "        [0.        , 0.17320508, 0.24494897, 0.26457513, 0.26457513],\n",
       "        [0.        , 0.2236068 , 0.3       , 0.36055513, 0.42426407],\n",
       "        [0.        , 0.33166248, 0.34641016, 0.37416574, 0.4       ],\n",
       "        [0.        , 0.36055513, 0.36055513, 0.41231056, 0.42426407],\n",
       "        [0.        , 0.2236068 , 0.3       , 0.38729833, 0.43588989],\n",
       "        [0.        , 0.2       , 0.26457513, 0.36055513, 0.38729833],\n",
       "        [0.        , 0.14142136, 0.24494897, 0.26457513, 0.31622777],\n",
       "        [0.        , 0.31622777, 0.34641016, 0.34641016, 0.37416574],\n",
       "        [0.        , 0.31622777, 0.37416574, 0.41231056, 0.42426407],\n",
       "        [0.        , 0.2       , 0.24494897, 0.33166248, 0.34641016],\n",
       "        [0.        , 0.34641016, 0.42426407, 0.43588989, 0.4472136 ],\n",
       "        [0.        , 0.14142136, 0.17320508, 0.3       , 0.3       ],\n",
       "        [0.        , 0.14142136, 0.26457513, 0.34641016, 0.43588989],\n",
       "        [0.        , 0.14142136, 0.26457513, 0.28284271, 0.3       ],\n",
       "        [0.        , 0.33166248, 0.36055513, 0.36055513, 0.37416574],\n",
       "        [0.        , 0.2       , 0.41231056, 0.47958315, 0.48989795],\n",
       "        [0.        , 0.37416574, 0.42426407, 0.45825757, 0.46904158],\n",
       "        [0.        , 0.28284271, 0.31622777, 0.31622777, 0.33166248],\n",
       "        [0.        , 0.26457513, 0.57445626, 0.59160798, 0.60827625],\n",
       "        [0.        , 0.17320508, 0.17320508, 0.2236068 , 0.31622777],\n",
       "        [0.        , 0.2       , 0.24494897, 0.3       , 0.3       ],\n",
       "        [0.        , 0.26457513, 0.31622777, 0.42426407, 0.42426407],\n",
       "        [0.        , 0.14142136, 0.2       , 0.3       , 0.34641016],\n",
       "        [0.        , 0.14142136, 0.24494897, 0.26457513, 0.26457513],\n",
       "        [0.        , 0.14142136, 0.36055513, 0.38729833, 0.64807407],\n",
       "        [0.        , 0.17320508, 0.2236068 , 0.26457513, 0.3       ],\n",
       "        [0.        , 0.14142136, 0.17320508, 0.24494897, 0.33166248],\n",
       "        [0.        , 0.14142136, 0.14142136, 0.17320508, 0.2236068 ],\n",
       "        [0.        , 0.2       , 0.33166248, 0.34641016, 0.34641016],\n",
       "        [0.        , 0.38729833, 0.38729833, 0.72111026, 0.79372539],\n",
       "        [0.        , 0.14142136, 0.17320508, 0.2236068 , 0.24494897],\n",
       "        [0.        , 0.42426407, 0.5       , 0.50990195, 0.55677644],\n",
       "        [0.        , 0.        , 0.26457513, 0.31622777, 0.33166248],\n",
       "        [0.        , 0.38729833, 0.4       , 0.41231056, 0.45825757],\n",
       "        [0.        , 0.24494897, 0.24494897, 0.33166248, 0.38729833],\n",
       "        [0.        , 0.3       , 0.31622777, 0.36055513, 0.38729833],\n",
       "        [0.        , 0.26457513, 0.52915026, 0.54772256, 0.54772256],\n",
       "        [0.        , 0.73484692, 0.76157731, 0.79372539, 0.87749644],\n",
       "        [0.        , 0.26457513, 0.43588989, 0.52915026, 0.54772256],\n",
       "        [0.        , 0.55677644, 0.6       , 0.6164414 , 0.6164414 ],\n",
       "        [0.        , 0.63245553, 0.67082039, 0.70710678, 0.75498344],\n",
       "        [0.        , 0.2236068 , 0.37416574, 0.42426407, 0.42426407],\n",
       "        [0.        , 0.34641016, 0.37416574, 0.37416574, 0.38729833],\n",
       "        [0.        , 0.17320508, 0.34641016, 0.36055513, 0.37416574],\n",
       "        [0.        , 0.26457513, 0.26457513, 0.33166248, 0.51961524],\n",
       "        [0.        , 0.48989795, 0.50990195, 0.50990195, 0.51961524],\n",
       "        [0.        , 0.3       , 0.37416574, 0.37416574, 0.38729833],\n",
       "        [0.        , 0.14142136, 0.24494897, 0.36055513, 0.38729833],\n",
       "        [0.        , 0.41231056, 0.81853528, 0.86023253, 1.00498756],\n",
       "        [0.        , 0.41231056, 0.54772256, 0.89442719, 0.92736185],\n",
       "        [0.        , 0.43588989, 0.51961524, 0.53851648, 0.58309519],\n",
       "        [0.        , 0.2236068 , 0.26457513, 0.3       , 0.3       ],\n",
       "        [0.        , 0.31622777, 0.31622777, 0.33166248, 0.45825757],\n",
       "        [0.        , 0.26457513, 0.41231056, 0.60827625, 0.678233  ],\n",
       "        [0.        , 0.17320508, 0.24494897, 0.36055513, 0.36055513],\n",
       "        [0.        , 0.3       , 0.31622777, 0.37416574, 0.37416574],\n",
       "        [0.        , 0.34641016, 0.38729833, 0.43588989, 0.46904158],\n",
       "        [0.        , 0.17320508, 0.24494897, 0.28284271, 0.38729833],\n",
       "        [0.        , 0.14142136, 0.24494897, 0.28284271, 0.3       ],\n",
       "        [0.        , 0.1       , 0.31622777, 0.33166248, 0.37416574],\n",
       "        [0.        , 0.34641016, 0.50990195, 0.51961524, 0.55677644],\n",
       "        [0.        , 0.26457513, 0.45825757, 0.46904158, 0.50990195],\n",
       "        [0.        , 0.41231056, 0.88317609, 0.92736185, 0.93273791],\n",
       "        [0.        , 0.1       , 0.3       , 0.42426407, 0.43588989],\n",
       "        [0.        , 0.33166248, 0.36055513, 0.37416574, 0.43588989],\n",
       "        [0.        , 0.53851648, 0.55677644, 0.58309519, 0.66332496],\n",
       "        [0.        , 0.53851648, 0.54772256, 0.66332496, 0.678233  ],\n",
       "        [0.        , 0.24494897, 0.38729833, 0.42426407, 0.43588989],\n",
       "        [0.        , 0.14142136, 0.24494897, 0.38729833, 0.43588989],\n",
       "        [0.        , 0.14142136, 0.2236068 , 0.28284271, 0.31622777],\n",
       "        [0.        , 0.17320508, 0.36055513, 0.36055513, 0.37416574],\n",
       "        [0.        , 0.24494897, 0.26457513, 0.34641016, 0.34641016],\n",
       "        [0.        , 0.24494897, 0.36055513, 0.46904158, 0.50990195],\n",
       "        [0.        , 0.        , 0.26457513, 0.31622777, 0.33166248],\n",
       "        [0.        , 0.2236068 , 0.31622777, 0.31622777, 0.34641016],\n",
       "        [0.        , 0.24494897, 0.3       , 0.31622777, 0.4       ],\n",
       "        [0.        , 0.24494897, 0.36055513, 0.36055513, 0.37416574],\n",
       "        [0.        , 0.24494897, 0.37416574, 0.38729833, 0.41231056],\n",
       "        [0.        , 0.2236068 , 0.34641016, 0.36055513, 0.36055513],\n",
       "        [0.        , 0.24494897, 0.3       , 0.55677644, 0.6164414 ],\n",
       "        [0.        , 0.28284271, 0.31622777, 0.33166248, 0.33166248]]),\n",
       " array([[  0,  17,   4,  39,  27],\n",
       "        [  1,  34,  45,  12,   9],\n",
       "        [  2,  47,   3,  12,   6],\n",
       "        [  3,  47,  29,  30,   2],\n",
       "        [  4,  37,   0,  17,  40],\n",
       "        [  5,  18,  10,  48,  44],\n",
       "        [  6,  47,   2,  11,  42],\n",
       "        [  7,  39,  49,   0,  17],\n",
       "        [  8,  38,   3,  42,  13],\n",
       "        [  9,  34,   1,  30,  12],\n",
       "        [ 10,  48,  27,  36,  19],\n",
       "        [ 11,  29,   7,  26,  24],\n",
       "        [ 12,   1,   9,  45,  34],\n",
       "        [ 13,  38,  42,   8,  47],\n",
       "        [ 14,  33,  16,  15,  18],\n",
       "        [ 15,  33,  14,   5,  16],\n",
       "        [ 16,  10,  48,  33,  19],\n",
       "        [ 17,   0,  40,   4,  39],\n",
       "        [ 18,   5,  10,  48,  20],\n",
       "        [ 19,  21,  46,  48,   4],\n",
       "        [ 20,  31,  27,  28,  10],\n",
       "        [ 21,  19,  46,  17,   4],\n",
       "        [ 22,   6,   2,  37,  40],\n",
       "        [ 23,  26,  43,  39,   7],\n",
       "        [ 24,  11,  29,  26,  30],\n",
       "        [ 25,  34,   9,   1,  30],\n",
       "        [ 26,  23,  43,   7,  39],\n",
       "        [ 27,  28,   0,  39,  17],\n",
       "        [ 28,  27,   0,  39,  17],\n",
       "        [ 29,  30,   3,  11,  47],\n",
       "        [ 30,  29,  34,   9,  25],\n",
       "        [ 31,  20,  28,  27,  36],\n",
       "        [ 32,  46,  33,  19,  48],\n",
       "        [ 33,  32,  15,  16,  14],\n",
       "        [ 34,   9,   1,  30,  25],\n",
       "        [ 35,  49,   1,   2,  40],\n",
       "        [ 36,  10,  31,  28,  48],\n",
       "        [ 37,   4,   0,  40,   7],\n",
       "        [ 38,   8,  42,  13,   3],\n",
       "        [ 39,   7,   0,  28,  27],\n",
       "        [ 40,  17,   0,   4,   7],\n",
       "        [ 41,   8,  38,  45,  13],\n",
       "        [ 42,  38,  47,   3,   2],\n",
       "        [ 43,  26,  23,  21,  17],\n",
       "        [ 44,  46,   5,  21,  19],\n",
       "        [ 45,   1,  12,  34,  30],\n",
       "        [ 46,  19,  21,  48,   4],\n",
       "        [ 47,   3,   2,  42,   6],\n",
       "        [ 48,  10,  27,  19,  46],\n",
       "        [ 49,   7,  39,  35,   0],\n",
       "        [ 50,  52,  86,  65,  76],\n",
       "        [ 51,  56,  75,  65,  86],\n",
       "        [ 52,  50,  86,  77,  76],\n",
       "        [ 53,  89,  80,  69,  81],\n",
       "        [ 54,  58,  75,  76,  86],\n",
       "        [ 55,  66,  90,  96,  94],\n",
       "        [ 56,  51,  85,  91, 127],\n",
       "        [ 57,  93,  98,  60,  81],\n",
       "        [ 58,  75,  54,  65,  76],\n",
       "        [ 59,  89,  94,  53,  80],\n",
       "        [ 60,  93,  57,  81,  80],\n",
       "        [ 61,  96,  78,  95,  99],\n",
       "        [ 62,  92,  69,  67,  80],\n",
       "        [ 63,  91,  73,  78,  97],\n",
       "        [ 64,  82,  79,  88,  99],\n",
       "        [ 65,  75,  58,  86,  51],\n",
       "        [ 66,  84,  55,  96,  78],\n",
       "        [ 67,  92,  82,  99,  69],\n",
       "        [ 68,  87,  72, 119,  54],\n",
       "        [ 69,  80,  89,  81,  92],\n",
       "        [ 70, 138, 127, 149,  85],\n",
       "        [ 71,  97,  82,  92,  61],\n",
       "        [ 72, 133, 123, 146,  83],\n",
       "        [ 73,  63,  91,  78,  97],\n",
       "        [ 74,  97,  75,  58,  54],\n",
       "        [ 75,  65,  58,  74,  54],\n",
       "        [ 76,  58,  86,  52,  54],\n",
       "        [ 77,  52,  86, 147, 110],\n",
       "        [ 78,  91,  63,  61,  97],\n",
       "        [ 79,  81,  80,  69,  64],\n",
       "        [ 80,  81,  69,  89,  53],\n",
       "        [ 81,  80,  69,  79,  89],\n",
       "        [ 82,  92,  99,  67,  69],\n",
       "        [ 83, 133, 101, 142, 149],\n",
       "        [ 84,  66,  55,  96,  88],\n",
       "        [ 85,  56,  70,  51,  91],\n",
       "        [ 86,  52,  65,  58,  50],\n",
       "        [ 87,  68,  72,  62,  54],\n",
       "        [ 88,  96,  95,  99,  94],\n",
       "        [ 89,  53,  69,  80,  94],\n",
       "        [ 90,  94,  55,  96,  89],\n",
       "        [ 91,  63,  78,  73,  97],\n",
       "        [ 92,  82,  67,  99,  69],\n",
       "        [ 93,  57,  60,  98,  81],\n",
       "        [ 94,  99,  96,  90,  89],\n",
       "        [ 95,  96,  88,  99,  94],\n",
       "        [ 96,  95,  99,  88,  94],\n",
       "        [ 97,  74,  71,  91,  78],\n",
       "        [ 98,  57,  93,  60,  79],\n",
       "        [ 99,  96,  94,  88,  95],\n",
       "        [100, 136, 144, 104, 143],\n",
       "        [101, 142, 113, 121, 149],\n",
       "        [102, 125, 120, 143, 130],\n",
       "        [103, 116, 137, 128, 111],\n",
       "        [104, 132, 128, 140, 124],\n",
       "        [105, 122, 107, 135, 118],\n",
       "        [106,  84,  59,  90,  89],\n",
       "        [107, 130, 125, 105, 102],\n",
       "        [108, 128, 103, 132, 116],\n",
       "        [109, 143, 120, 144, 102],\n",
       "        [110, 147, 115,  77, 145],\n",
       "        [111, 147, 128, 146, 103],\n",
       "        [112, 139, 140, 120, 145],\n",
       "        [113, 101, 142, 121, 114],\n",
       "        [114, 121, 101, 142, 113],\n",
       "        [115, 148, 145, 110, 147],\n",
       "        [116, 137, 103, 147, 111],\n",
       "        [117, 131, 105, 109, 135],\n",
       "        [118, 122, 105, 135, 107],\n",
       "        [119,  72,  83,  68, 146],\n",
       "        [120, 143, 140, 124, 144],\n",
       "        [121, 101, 142, 113, 149],\n",
       "        [122, 105, 118, 107, 130],\n",
       "        [123, 126, 146, 127,  72],\n",
       "        [124, 120, 143, 140, 112],\n",
       "        [125, 129, 102, 107, 130],\n",
       "        [126, 123, 127, 138, 146],\n",
       "        [127, 138, 126, 149,  70],\n",
       "        [128, 132, 104, 103, 111],\n",
       "        [129, 125, 130, 102, 107],\n",
       "        [130, 107, 102, 125, 129],\n",
       "        [131, 117, 105, 135, 109],\n",
       "        [132, 128, 104, 103, 111],\n",
       "        [133,  83,  72, 123, 126],\n",
       "        [134, 103,  83, 133, 111],\n",
       "        [135, 130, 105, 102, 107],\n",
       "        [136, 148, 115, 100, 144],\n",
       "        [137, 116, 103, 147, 128],\n",
       "        [138, 127,  70, 126, 149],\n",
       "        [139, 112, 145, 141, 120],\n",
       "        [140, 144, 120, 112, 143],\n",
       "        [141, 145, 139, 112, 110],\n",
       "        [101, 142, 113, 121, 149],\n",
       "        [143, 120, 124, 144, 140],\n",
       "        [144, 140, 120, 143, 124],\n",
       "        [145, 141, 147, 139, 112],\n",
       "        [146, 123, 111, 126,  72],\n",
       "        [147, 110, 111, 116, 145],\n",
       "        [148, 136, 115, 110, 147],\n",
       "        [149, 127, 138, 101, 142]], dtype=int64))"
      ]
     },
     "execution_count": 110,
     "metadata": {},
     "output_type": "execute_result"
    }
   ],
   "source": [
    "A"
   ]
  },
  {
   "cell_type": "code",
   "execution_count": null,
   "metadata": {},
   "outputs": [],
   "source": [
    "# end of file"
   ]
  }
 ],
 "metadata": {
  "kernelspec": {
   "display_name": "Python 3",
   "language": "python",
   "name": "python3"
  },
  "language_info": {
   "codemirror_mode": {
    "name": "ipython",
    "version": 3
   },
   "file_extension": ".py",
   "mimetype": "text/x-python",
   "name": "python",
   "nbconvert_exporter": "python",
   "pygments_lexer": "ipython3",
   "version": "3.6.4"
  }
 },
 "nbformat": 4,
 "nbformat_minor": 2
}
