{
 "cells": [
  {
   "cell_type": "markdown",
   "metadata": {},
   "source": [
    "# NLTK"
   ]
  },
  {
   "cell_type": "code",
   "execution_count": 2,
   "metadata": {},
   "outputs": [],
   "source": [
    "import nltk"
   ]
  },
  {
   "cell_type": "code",
   "execution_count": 3,
   "metadata": {},
   "outputs": [
    {
     "name": "stdout",
     "output_type": "stream",
     "text": [
      "[nltk_data] Downloading package punkt to\n",
      "[nltk_data]     C:\\Users\\YOUNG\\AppData\\Roaming\\nltk_data...\n",
      "[nltk_data]   Unzipping tokenizers\\punkt.zip.\n"
     ]
    },
    {
     "data": {
      "text/plain": [
       "True"
      ]
     },
     "execution_count": 3,
     "metadata": {},
     "output_type": "execute_result"
    }
   ],
   "source": [
    "nltk.download('punkt')"
   ]
  },
  {
   "cell_type": "code",
   "execution_count": 4,
   "metadata": {},
   "outputs": [],
   "source": [
    "str_1 = \"This sweeps across the texts, collecting word counts and relevant statistics. In the end, we see there are twelve distinct words in the processed corpus, which means each document will be represented by twelve numbers (ie., by a 12-D vector). To see the mapping between words and their ids\""
   ]
  },
  {
   "cell_type": "markdown",
   "metadata": {},
   "source": [
    "### 문장 나누기"
   ]
  },
  {
   "cell_type": "code",
   "execution_count": 5,
   "metadata": {},
   "outputs": [],
   "source": [
    "senten = nltk.sent_tokenize(str_1)"
   ]
  },
  {
   "cell_type": "code",
   "execution_count": 6,
   "metadata": {},
   "outputs": [
    {
     "data": {
      "text/plain": [
       "['This sweeps across the texts, collecting word counts and relevant statistics.',\n",
       " 'In the end, we see there are twelve distinct words in the processed corpus, which means each document will be represented by twelve numbers (ie., by a 12-D vector).',\n",
       " 'To see the mapping between words and their ids']"
      ]
     },
     "execution_count": 6,
     "metadata": {},
     "output_type": "execute_result"
    }
   ],
   "source": [
    "senten"
   ]
  },
  {
   "cell_type": "markdown",
   "metadata": {},
   "source": [
    "### 단어 나누기"
   ]
  },
  {
   "cell_type": "code",
   "execution_count": 7,
   "metadata": {},
   "outputs": [],
   "source": [
    "words = []\n",
    "for i in senten:\n",
    "    words = words + nltk.word_tokenize(i)"
   ]
  },
  {
   "cell_type": "code",
   "execution_count": 8,
   "metadata": {},
   "outputs": [
    {
     "data": {
      "text/plain": [
       "['This',\n",
       " 'sweeps',\n",
       " 'across',\n",
       " 'the',\n",
       " 'texts',\n",
       " ',',\n",
       " 'collecting',\n",
       " 'word',\n",
       " 'counts',\n",
       " 'and',\n",
       " 'relevant',\n",
       " 'statistics',\n",
       " '.',\n",
       " 'In',\n",
       " 'the',\n",
       " 'end',\n",
       " ',',\n",
       " 'we',\n",
       " 'see',\n",
       " 'there',\n",
       " 'are',\n",
       " 'twelve',\n",
       " 'distinct',\n",
       " 'words',\n",
       " 'in',\n",
       " 'the',\n",
       " 'processed',\n",
       " 'corpus',\n",
       " ',',\n",
       " 'which',\n",
       " 'means',\n",
       " 'each',\n",
       " 'document',\n",
       " 'will',\n",
       " 'be',\n",
       " 'represented',\n",
       " 'by',\n",
       " 'twelve',\n",
       " 'numbers',\n",
       " '(',\n",
       " 'ie.',\n",
       " ',',\n",
       " 'by',\n",
       " 'a',\n",
       " '12-D',\n",
       " 'vector',\n",
       " ')',\n",
       " '.',\n",
       " 'To',\n",
       " 'see',\n",
       " 'the',\n",
       " 'mapping',\n",
       " 'between',\n",
       " 'words',\n",
       " 'and',\n",
       " 'their',\n",
       " 'ids']"
      ]
     },
     "execution_count": 8,
     "metadata": {},
     "output_type": "execute_result"
    }
   ],
   "source": [
    "words"
   ]
  },
  {
   "cell_type": "markdown",
   "metadata": {},
   "source": [
    "### 불용어 처리"
   ]
  },
  {
   "cell_type": "code",
   "execution_count": 9,
   "metadata": {},
   "outputs": [
    {
     "name": "stdout",
     "output_type": "stream",
     "text": [
      "[nltk_data] Downloading package stopwords to\n",
      "[nltk_data]     C:\\Users\\YOUNG\\AppData\\Roaming\\nltk_data...\n",
      "[nltk_data]   Package stopwords is already up-to-date!\n"
     ]
    },
    {
     "data": {
      "text/plain": [
       "True"
      ]
     },
     "execution_count": 9,
     "metadata": {},
     "output_type": "execute_result"
    }
   ],
   "source": [
    "from nltk.corpus import stopwords\n",
    "nltk.download('stopwords')"
   ]
  },
  {
   "cell_type": "code",
   "execution_count": 10,
   "metadata": {},
   "outputs": [],
   "source": [
    "stop = stopwords.words('english')"
   ]
  },
  {
   "cell_type": "code",
   "execution_count": 11,
   "metadata": {},
   "outputs": [],
   "source": [
    "words = [w  for w in words  if w not in stop ]"
   ]
  },
  {
   "cell_type": "code",
   "execution_count": 12,
   "metadata": {},
   "outputs": [
    {
     "data": {
      "text/plain": [
       "['This',\n",
       " 'sweeps',\n",
       " 'across',\n",
       " 'texts',\n",
       " ',',\n",
       " 'collecting',\n",
       " 'word',\n",
       " 'counts',\n",
       " 'relevant',\n",
       " 'statistics',\n",
       " '.',\n",
       " 'In',\n",
       " 'end',\n",
       " ',',\n",
       " 'see',\n",
       " 'twelve',\n",
       " 'distinct',\n",
       " 'words',\n",
       " 'processed',\n",
       " 'corpus',\n",
       " ',',\n",
       " 'means',\n",
       " 'document',\n",
       " 'represented',\n",
       " 'twelve',\n",
       " 'numbers',\n",
       " '(',\n",
       " 'ie.',\n",
       " ',',\n",
       " '12-D',\n",
       " 'vector',\n",
       " ')',\n",
       " '.',\n",
       " 'To',\n",
       " 'see',\n",
       " 'mapping',\n",
       " 'words',\n",
       " 'ids']"
      ]
     },
     "execution_count": 12,
     "metadata": {},
     "output_type": "execute_result"
    }
   ],
   "source": [
    "words"
   ]
  },
  {
   "cell_type": "markdown",
   "metadata": {},
   "source": [
    "### 소문자 처리"
   ]
  },
  {
   "cell_type": "code",
   "execution_count": 13,
   "metadata": {},
   "outputs": [],
   "source": [
    "words = [w.lower() for w in words]"
   ]
  },
  {
   "cell_type": "code",
   "execution_count": 14,
   "metadata": {},
   "outputs": [
    {
     "data": {
      "text/plain": [
       "['this',\n",
       " 'sweeps',\n",
       " 'across',\n",
       " 'texts',\n",
       " ',',\n",
       " 'collecting',\n",
       " 'word',\n",
       " 'counts',\n",
       " 'relevant',\n",
       " 'statistics',\n",
       " '.',\n",
       " 'in',\n",
       " 'end',\n",
       " ',',\n",
       " 'see',\n",
       " 'twelve',\n",
       " 'distinct',\n",
       " 'words',\n",
       " 'processed',\n",
       " 'corpus',\n",
       " ',',\n",
       " 'means',\n",
       " 'document',\n",
       " 'represented',\n",
       " 'twelve',\n",
       " 'numbers',\n",
       " '(',\n",
       " 'ie.',\n",
       " ',',\n",
       " '12-d',\n",
       " 'vector',\n",
       " ')',\n",
       " '.',\n",
       " 'to',\n",
       " 'see',\n",
       " 'mapping',\n",
       " 'words',\n",
       " 'ids']"
      ]
     },
     "execution_count": 14,
     "metadata": {},
     "output_type": "execute_result"
    }
   ],
   "source": [
    "words"
   ]
  },
  {
   "cell_type": "markdown",
   "metadata": {},
   "source": [
    "### 어간 정리"
   ]
  },
  {
   "cell_type": "code",
   "execution_count": 15,
   "metadata": {},
   "outputs": [
    {
     "name": "stdout",
     "output_type": "stream",
     "text": [
      "[nltk_data] Downloading package wordnet to\n",
      "[nltk_data]     C:\\Users\\YOUNG\\AppData\\Roaming\\nltk_data...\n",
      "[nltk_data]   Unzipping corpora\\wordnet.zip.\n"
     ]
    },
    {
     "data": {
      "text/plain": [
       "True"
      ]
     },
     "execution_count": 15,
     "metadata": {},
     "output_type": "execute_result"
    }
   ],
   "source": [
    "from nltk.stem import WordNetLemmatizer\n",
    "nltk.download('wordnet')"
   ]
  },
  {
   "cell_type": "code",
   "execution_count": 16,
   "metadata": {},
   "outputs": [],
   "source": [
    "lmtzr = WordNetLemmatizer() # 정리하다. 단수형으로 변환등"
   ]
  },
  {
   "cell_type": "code",
   "execution_count": 17,
   "metadata": {},
   "outputs": [],
   "source": [
    "words = [lmtzr.lemmatize(w) for w in words]"
   ]
  },
  {
   "cell_type": "code",
   "execution_count": 18,
   "metadata": {},
   "outputs": [
    {
     "data": {
      "text/plain": [
       "['this',\n",
       " 'sweep',\n",
       " 'across',\n",
       " 'text',\n",
       " ',',\n",
       " 'collecting',\n",
       " 'word',\n",
       " 'count',\n",
       " 'relevant',\n",
       " 'statistic',\n",
       " '.',\n",
       " 'in',\n",
       " 'end',\n",
       " ',',\n",
       " 'see',\n",
       " 'twelve',\n",
       " 'distinct',\n",
       " 'word',\n",
       " 'processed',\n",
       " 'corpus',\n",
       " ',',\n",
       " 'mean',\n",
       " 'document',\n",
       " 'represented',\n",
       " 'twelve',\n",
       " 'number',\n",
       " '(',\n",
       " 'ie.',\n",
       " ',',\n",
       " '12-d',\n",
       " 'vector',\n",
       " ')',\n",
       " '.',\n",
       " 'to',\n",
       " 'see',\n",
       " 'mapping',\n",
       " 'word',\n",
       " 'id']"
      ]
     },
     "execution_count": 18,
     "metadata": {},
     "output_type": "execute_result"
    }
   ],
   "source": [
    "words #sweeps.."
   ]
  },
  {
   "cell_type": "markdown",
   "metadata": {},
   "source": [
    "### 길이 2자리 이상처리"
   ]
  },
  {
   "cell_type": "code",
   "execution_count": 19,
   "metadata": {},
   "outputs": [],
   "source": [
    "words = [w for w in words if len(w) >= 2]"
   ]
  },
  {
   "cell_type": "code",
   "execution_count": 20,
   "metadata": {},
   "outputs": [
    {
     "data": {
      "text/plain": [
       "['this',\n",
       " 'sweep',\n",
       " 'across',\n",
       " 'text',\n",
       " 'collecting',\n",
       " 'word',\n",
       " 'count',\n",
       " 'relevant',\n",
       " 'statistic',\n",
       " 'in',\n",
       " 'end',\n",
       " 'see',\n",
       " 'twelve',\n",
       " 'distinct',\n",
       " 'word',\n",
       " 'processed',\n",
       " 'corpus',\n",
       " 'mean',\n",
       " 'document',\n",
       " 'represented',\n",
       " 'twelve',\n",
       " 'number',\n",
       " 'ie.',\n",
       " '12-d',\n",
       " 'vector',\n",
       " 'to',\n",
       " 'see',\n",
       " 'mapping',\n",
       " 'word',\n",
       " 'id']"
      ]
     },
     "execution_count": 20,
     "metadata": {},
     "output_type": "execute_result"
    }
   ],
   "source": [
    "words"
   ]
  },
  {
   "cell_type": "markdown",
   "metadata": {},
   "source": [
    "### 어간 정리"
   ]
  },
  {
   "cell_type": "code",
   "execution_count": 21,
   "metadata": {},
   "outputs": [],
   "source": [
    "# 어간\n",
    "from nltk.stem import PorterStemmer"
   ]
  },
  {
   "cell_type": "code",
   "execution_count": 22,
   "metadata": {},
   "outputs": [],
   "source": [
    "stemmer = PorterStemmer()"
   ]
  },
  {
   "cell_type": "code",
   "execution_count": 23,
   "metadata": {},
   "outputs": [],
   "source": [
    "words = [stemmer.stem(w) for w in words]"
   ]
  },
  {
   "cell_type": "code",
   "execution_count": 24,
   "metadata": {},
   "outputs": [
    {
     "data": {
      "text/plain": [
       "['thi',\n",
       " 'sweep',\n",
       " 'across',\n",
       " 'text',\n",
       " 'collect',\n",
       " 'word',\n",
       " 'count',\n",
       " 'relev',\n",
       " 'statist',\n",
       " 'in',\n",
       " 'end',\n",
       " 'see',\n",
       " 'twelv',\n",
       " 'distinct',\n",
       " 'word',\n",
       " 'process',\n",
       " 'corpu',\n",
       " 'mean',\n",
       " 'document',\n",
       " 'repres',\n",
       " 'twelv',\n",
       " 'number',\n",
       " 'ie.',\n",
       " '12-d',\n",
       " 'vector',\n",
       " 'to',\n",
       " 'see',\n",
       " 'map',\n",
       " 'word',\n",
       " 'id']"
      ]
     },
     "execution_count": 24,
     "metadata": {},
     "output_type": "execute_result"
    }
   ],
   "source": [
    "words"
   ]
  },
  {
   "cell_type": "markdown",
   "metadata": {},
   "source": [
    "### 문장 원복"
   ]
  },
  {
   "cell_type": "code",
   "execution_count": 25,
   "metadata": {},
   "outputs": [
    {
     "data": {
      "text/plain": [
       "'thi sweep across text collect word count relev statist in end see twelv distinct word process corpu mean document repres twelv number ie. 12-d vector to see map word id'"
      ]
     },
     "execution_count": 25,
     "metadata": {},
     "output_type": "execute_result"
    }
   ],
   "source": [
    "' '.join(words)"
   ]
  }
 ],
 "metadata": {
  "kernelspec": {
   "display_name": "Python 3",
   "language": "python",
   "name": "python3"
  },
  "language_info": {
   "codemirror_mode": {
    "name": "ipython",
    "version": 3
   },
   "file_extension": ".py",
   "mimetype": "text/x-python",
   "name": "python",
   "nbconvert_exporter": "python",
   "pygments_lexer": "ipython3",
   "version": "3.6.4"
  }
 },
 "nbformat": 4,
 "nbformat_minor": 2
}
